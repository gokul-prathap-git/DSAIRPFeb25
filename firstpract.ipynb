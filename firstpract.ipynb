{
  "nbformat": 4,
  "nbformat_minor": 0,
  "metadata": {
    "colab": {
      "provenance": [],
      "authorship_tag": "ABX9TyOjesYGKriWA1csL94Xx1x0",
      "include_colab_link": true
    },
    "kernelspec": {
      "name": "python3",
      "display_name": "Python 3"
    },
    "language_info": {
      "name": "python"
    }
  },
  "cells": [
    {
      "cell_type": "markdown",
      "metadata": {
        "id": "view-in-github",
        "colab_type": "text"
      },
      "source": [
        "<a href=\"https://colab.research.google.com/github/gokul-prathap-git/DSAIRPFeb25/blob/session1/firstpract.ipynb\" target=\"_parent\"><img src=\"https://colab.research.google.com/assets/colab-badge.svg\" alt=\"Open In Colab\"/></a>"
      ]
    },
    {
      "cell_type": "markdown",
      "source": [
        "**Data types and operators**"
      ],
      "metadata": {
        "id": "fhBJ2rytAT8B"
      }
    },
    {
      "cell_type": "code",
      "execution_count": null,
      "metadata": {
        "colab": {
          "base_uri": "https://localhost:8080/"
        },
        "id": "Ar856DKJ1KLK",
        "outputId": "f96ee304-5729-463d-8e02-c402f53200c4"
      },
      "outputs": [
        {
          "output_type": "stream",
          "name": "stdout",
          "text": [
            "Enter the first number:45\n",
            "Enter the second number:95\n",
            "140\n"
          ]
        }
      ],
      "source": [
        "a = int(input(\"Enter the first number:\"))\n",
        "b = int(input(\"Enter the second number:\"))\n",
        "print(a+b)"
      ]
    },
    {
      "cell_type": "code",
      "source": [
        "c = float(input(\"Enter the first number:\"))\n",
        "d = float(input(\"Enter the second number:\"))\n",
        "print(c-d)"
      ],
      "metadata": {
        "colab": {
          "base_uri": "https://localhost:8080/"
        },
        "id": "NfVc2QtH1iFA",
        "outputId": "958c3a1a-805e-4508-c45a-68d7e6b9c5f4"
      },
      "execution_count": null,
      "outputs": [
        {
          "output_type": "stream",
          "name": "stdout",
          "text": [
            "Enter the first number:98.85\n",
            "Enter the second number:48.35\n",
            "50.49999999999999\n"
          ]
        }
      ]
    },
    {
      "cell_type": "code",
      "source": [
        "e = int(input(\"Enter the first number:\"))\n",
        "f = int(input(\"Enter the second number:\"))\n",
        "print(e*f)"
      ],
      "metadata": {
        "colab": {
          "base_uri": "https://localhost:8080/"
        },
        "id": "bAYhbUyP2hlQ",
        "outputId": "7b9b26ee-e67e-4616-ee23-ab9f15a41ccb"
      },
      "execution_count": null,
      "outputs": [
        {
          "output_type": "stream",
          "name": "stdout",
          "text": [
            "Enter the first number:45\n",
            "Enter the second number:25\n",
            "1125\n"
          ]
        }
      ]
    },
    {
      "cell_type": "code",
      "source": [
        "g = int(input(\"Enter the first number:\"))\n",
        "h = int(input(\"Enter the second number:\"))\n",
        "h!=0\n",
        "print(g/h)"
      ],
      "metadata": {
        "colab": {
          "base_uri": "https://localhost:8080/"
        },
        "id": "wRq44ZbF4QNE",
        "outputId": "6ea059a8-c894-484e-aa02-320481206279"
      },
      "execution_count": null,
      "outputs": [
        {
          "output_type": "stream",
          "name": "stdout",
          "text": [
            "Enter the first number:45\n",
            "Enter the second number:9\n",
            "5.0\n"
          ]
        }
      ]
    },
    {
      "cell_type": "code",
      "source": [
        "i = int(input(\"Enter the first number:\"))\n",
        "j = int(input(\"Enter the second number:\"))\n",
        "print(i%j)"
      ],
      "metadata": {
        "colab": {
          "base_uri": "https://localhost:8080/"
        },
        "id": "-LuLcewY4gek",
        "outputId": "f5c6f775-e7b4-434d-b7a1-d026fcd01a0b"
      },
      "execution_count": null,
      "outputs": [
        {
          "output_type": "stream",
          "name": "stdout",
          "text": [
            "Enter the first number:110\n",
            "Enter the second number:25\n",
            "10\n"
          ]
        }
      ]
    },
    {
      "cell_type": "code",
      "source": [
        "x = 10\n",
        "y = 15\n",
        "\n",
        "temp = x\n",
        "x = y\n",
        "y = temp\n",
        "\n",
        "print(\"x=\" , x)\n",
        "print(\"y=\" , y)"
      ],
      "metadata": {
        "colab": {
          "base_uri": "https://localhost:8080/"
        },
        "id": "hpTey8E843Jy",
        "outputId": "985159eb-ac94-48b2-c9ce-bf682ca77223"
      },
      "execution_count": null,
      "outputs": [
        {
          "output_type": "stream",
          "name": "stdout",
          "text": [
            "x= 15\n",
            "y= 10\n"
          ]
        }
      ]
    },
    {
      "cell_type": "code",
      "source": [
        "num = int(input(\"Enter a number:\"))\n",
        "if num%2 ==0:\n",
        "  print(\"The number is even\")\n",
        "else:\n",
        "  print(\"The number is odd\")"
      ],
      "metadata": {
        "colab": {
          "base_uri": "https://localhost:8080/"
        },
        "id": "U6ExY7we9_8N",
        "outputId": "9ff2beb7-9dad-45ce-d806-b7a7f99d75af"
      },
      "execution_count": null,
      "outputs": [
        {
          "output_type": "stream",
          "name": "stdout",
          "text": [
            "Enter a number:85\n",
            "The number is odd\n"
          ]
        }
      ]
    },
    {
      "cell_type": "code",
      "source": [
        "num = int(input(\"Enter a number:\"))\n",
        "print(num**2)"
      ],
      "metadata": {
        "colab": {
          "base_uri": "https://localhost:8080/"
        },
        "id": "cNMzCxfw-Bk2",
        "outputId": "b2cb7983-54aa-44c1-c428-c01c80ad88c0"
      },
      "execution_count": null,
      "outputs": [
        {
          "output_type": "stream",
          "name": "stdout",
          "text": [
            "Enter a number:25\n",
            "625\n"
          ]
        }
      ]
    },
    {
      "cell_type": "code",
      "source": [
        "num = int(input(\"Enter a number:\"))\n",
        "print(num**3)"
      ],
      "metadata": {
        "colab": {
          "base_uri": "https://localhost:8080/"
        },
        "id": "cWgsjEeX-SzM",
        "outputId": "93b19428-ea31-4939-f102-1b2add0954b8"
      },
      "execution_count": null,
      "outputs": [
        {
          "output_type": "stream",
          "name": "stdout",
          "text": [
            "Enter a number:9\n",
            "729\n"
          ]
        }
      ]
    },
    {
      "cell_type": "code",
      "source": [
        "celsius = float(input(\"Enter the temperature in celsius:\"))\n",
        "fahrenheit = (celsius * 9/5) + 32\n",
        "print(\"The teperature in fahrenheit is:\" , fahrenheit)"
      ],
      "metadata": {
        "colab": {
          "base_uri": "https://localhost:8080/"
        },
        "id": "s8QIWa1m-qFz",
        "outputId": "9a721996-c6f1-40e8-9651-403fbdbdffa7"
      },
      "execution_count": null,
      "outputs": [
        {
          "output_type": "stream",
          "name": "stdout",
          "text": [
            "Enter the temperature in celsius:0\n",
            "The teperature in fahrenheit is: 32.0\n"
          ]
        }
      ]
    },
    {
      "cell_type": "code",
      "source": [],
      "metadata": {
        "id": "8RZ9U_B6_sVF"
      },
      "execution_count": null,
      "outputs": []
    }
  ]
}