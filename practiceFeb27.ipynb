{
  "nbformat": 4,
  "nbformat_minor": 0,
  "metadata": {
    "colab": {
      "provenance": [],
      "authorship_tag": "ABX9TyP355RAd0HDuYwnsy7uAT3p",
      "include_colab_link": true
    },
    "kernelspec": {
      "name": "python3",
      "display_name": "Python 3"
    },
    "language_info": {
      "name": "python"
    }
  },
  "cells": [
    {
      "cell_type": "markdown",
      "metadata": {
        "id": "view-in-github",
        "colab_type": "text"
      },
      "source": [
        "<a href=\"https://colab.research.google.com/github/gokul-prathap-git/DSAIRPFeb25/blob/session1/practiceFeb27.ipynb\" target=\"_parent\"><img src=\"https://colab.research.google.com/assets/colab-badge.svg\" alt=\"Open In Colab\"/></a>"
      ]
    },
    {
      "cell_type": "code",
      "execution_count": null,
      "metadata": {
        "colab": {
          "base_uri": "https://localhost:8080/"
        },
        "id": "2fHC_4M9vPyW",
        "outputId": "acee1284-35d3-4b00-ed17-ddfc1b2aa5c6"
      },
      "outputs": [
        {
          "output_type": "stream",
          "name": "stdout",
          "text": [
            "Enter the number of terms:5\n",
            "01123"
          ]
        }
      ],
      "source": [
        "# Fibonacci Sequence\n",
        "n = int(input(\"Enter the number of terms:\"))\n",
        "a,b = 0,1\n",
        "count =0\n",
        "while count< n:\n",
        "  print(a,end=\"\")\n",
        "  c = a + b\n",
        "  a =b\n",
        "  b = c\n",
        "  count += 1\n"
      ]
    },
    {
      "cell_type": "code",
      "source": [
        "# Prime number check\n",
        "num = int(input(\"Enter a number:\"))\n",
        "if num > 1:\n",
        "    for i in range(2,int(num/2) + 1):\n",
        "      if num % i == 0:\n",
        "        print(num,\"is not a prime number\")\n",
        "        break\n",
        "    else:\n",
        "      print(num,\"is a prime number\")\n",
        "else:\n",
        "  print(num,\"is not a prime number\")"
      ],
      "metadata": {
        "colab": {
          "base_uri": "https://localhost:8080/"
        },
        "id": "2Thpqc2H5c9e",
        "outputId": "faa1e807-2e2f-4db4-94ff-16835172aa1e"
      },
      "execution_count": null,
      "outputs": [
        {
          "output_type": "stream",
          "name": "stdout",
          "text": [
            "Enter a number:97\n",
            "97 is a prime number\n"
          ]
        }
      ]
    },
    {
      "cell_type": "code",
      "source": [
        "# Reverse a string\n",
        "string = input(\"Enter a string:\")\n",
        "reversed_string = string[::-1]\n",
        "print(\"Reversed string is:\", reversed_string)"
      ],
      "metadata": {
        "colab": {
          "base_uri": "https://localhost:8080/"
        },
        "id": "weuIdQi_XUAN",
        "outputId": "463e710a-73a3-41a1-8ade-505805c02fb5"
      },
      "execution_count": null,
      "outputs": [
        {
          "output_type": "stream",
          "name": "stdout",
          "text": [
            "Enter a string:malayalam\n",
            "Reversed string is: malayalam\n"
          ]
        }
      ]
    },
    {
      "cell_type": "code",
      "source": [
        "# Count vowels\n",
        "string = input(\"Enter a string:\")\n",
        "vowels = \"aeiouAEIOU\"\n",
        "count = 0\n",
        "for char in string:\n",
        "  if char in vowels:\n",
        "    count += 1\n",
        "print(\"Number of vowels in the string is:\", count)"
      ],
      "metadata": {
        "colab": {
          "base_uri": "https://localhost:8080/"
        },
        "id": "8kTisMFAhrHr",
        "outputId": "bcb6dce4-a205-4ae7-ee14-1091a295c8cc"
      },
      "execution_count": null,
      "outputs": [
        {
          "output_type": "stream",
          "name": "stdout",
          "text": [
            "Enter a string:numismatics\n",
            "Number of vowels in the string is: 4\n"
          ]
        }
      ]
    },
    {
      "cell_type": "code",
      "source": [
        "# Sum of digits\n",
        "num = int(input(\"Enter a number :\"))\n",
        "sum_of_digits = 0\n",
        "while num > 0:\n",
        "  digit = num % 10\n",
        "  sum_of_digits += digit\n",
        "  num //= 10\n",
        "print(\"Sum of digits is:\", sum_of_digits)"
      ],
      "metadata": {
        "colab": {
          "base_uri": "https://localhost:8080/"
        },
        "id": "CcHAHfcUjTHn",
        "outputId": "ed1e5a14-e08e-4ff5-9c41-3b2d4f73ca84"
      },
      "execution_count": null,
      "outputs": [
        {
          "output_type": "stream",
          "name": "stdout",
          "text": [
            "Enter a number :57\n",
            "Sum of digits is: 12\n"
          ]
        }
      ]
    },
    {
      "cell_type": "code",
      "source": [
        "# Check palindrome\n",
        "string = input(\"Enter a string:\")\n",
        "if string == string[::-1]:\n",
        "  print(\"String is a palindrome\")\n",
        "else:\n",
        "  print(\"String is not a palindrome\")"
      ],
      "metadata": {
        "colab": {
          "base_uri": "https://localhost:8080/"
        },
        "id": "kWh8kNIrjvqB",
        "outputId": "178af7b9-4977-4656-fb26-2bb54ef9616c"
      },
      "execution_count": null,
      "outputs": [
        {
          "output_type": "stream",
          "name": "stdout",
          "text": [
            "Enter a string:malayalam\n",
            "String is a palindrome\n"
          ]
        }
      ]
    },
    {
      "cell_type": "code",
      "source": [
        "# Find largest number\n",
        "numbers = [int(x) for x in input(\"Enter numbers seperated by space:\").split()]\n",
        "largest = max(numbers)\n",
        "print(\"Largest number is:\", largest)"
      ],
      "metadata": {
        "colab": {
          "base_uri": "https://localhost:8080/"
        },
        "id": "pQ1A4GG1kFoT",
        "outputId": "e29d7387-4a73-408f-ac29-683e4a2fc12d"
      },
      "execution_count": null,
      "outputs": [
        {
          "output_type": "stream",
          "name": "stdout",
          "text": [
            "Enter numbers seperated by space:34 56\n",
            "Largest number is: 56\n"
          ]
        }
      ]
    },
    {
      "cell_type": "code",
      "source": [
        "# calculate average\n",
        "numbers = [int(x) for x in input(\"Enter number seperated by space:\").split()]\n",
        "average = sum(numbers) / len(numbers)\n",
        "print(\"The average is:\", average)"
      ],
      "metadata": {
        "colab": {
          "base_uri": "https://localhost:8080/"
        },
        "id": "rhXLdXxvmQZZ",
        "outputId": "42d43eab-8bfc-48bc-d674-60c3b20bf045"
      },
      "execution_count": null,
      "outputs": [
        {
          "output_type": "stream",
          "name": "stdout",
          "text": [
            "Enter number seperated by space:34 56\n",
            "The average is: 45.0\n"
          ]
        }
      ]
    },
    {
      "cell_type": "code",
      "source": [
        "# Count words\n",
        "sentence = input(\"Enter a sentence:\")\n",
        "words = sentence.split()\n",
        "count = len(words)\n",
        "print(\"Number of words in the sentence is:\", count)"
      ],
      "metadata": {
        "colab": {
          "base_uri": "https://localhost:8080/"
        },
        "id": "HNrt7KWVqoJJ",
        "outputId": "98572688-b8ca-4589-8bda-444c2d3c7e81"
      },
      "execution_count": null,
      "outputs": [
        {
          "output_type": "stream",
          "name": "stdout",
          "text": [
            "Enter a sentence:leo das is a badass\n",
            "Number of words in the sentence is: 5\n"
          ]
        }
      ]
    },
    {
      "cell_type": "code",
      "source": [],
      "metadata": {
        "id": "IixfeRuNrir7"
      },
      "execution_count": null,
      "outputs": []
    }
  ]
}