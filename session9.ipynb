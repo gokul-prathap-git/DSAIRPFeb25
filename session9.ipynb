{
  "nbformat": 4,
  "nbformat_minor": 0,
  "metadata": {
    "colab": {
      "provenance": [],
      "authorship_tag": "ABX9TyNsNh1p+YWjpjbkbcyLxrJ6",
      "include_colab_link": true
    },
    "kernelspec": {
      "name": "python3",
      "display_name": "Python 3"
    },
    "language_info": {
      "name": "python"
    }
  },
  "cells": [
    {
      "cell_type": "markdown",
      "metadata": {
        "id": "view-in-github",
        "colab_type": "text"
      },
      "source": [
        "<a href=\"https://colab.research.google.com/github/gokul-prathap-git/DSAIRPFeb25/blob/session1/session9.ipynb\" target=\"_parent\"><img src=\"https://colab.research.google.com/assets/colab-badge.svg\" alt=\"Open In Colab\"/></a>"
      ]
    },
    {
      "cell_type": "code",
      "execution_count": null,
      "metadata": {
        "colab": {
          "base_uri": "https://localhost:8080/"
        },
        "id": "Ie7W9aXci4c_",
        "outputId": "ec03c02e-cf71-45c7-ac66-77e36f59a36c"
      },
      "outputs": [
        {
          "output_type": "stream",
          "name": "stdout",
          "text": [
            "John\n",
            "36\n"
          ]
        }
      ],
      "source": [
        "class Person:\n",
        "  def __init__(self, name, age):\n",
        "    self.name = name\n",
        "    self.age = age\n",
        "my_person = Person(\"John\", 36)\n",
        "print(my_person.name)\n",
        "print(my_person.age)"
      ]
    },
    {
      "cell_type": "code",
      "source": [
        "my_person2 = Person(\"Peter\", 36)\n",
        "print(my_person2.name)\n",
        "print(my_person2.age)"
      ],
      "metadata": {
        "colab": {
          "base_uri": "https://localhost:8080/"
        },
        "id": "tPDeAqQ0raYd",
        "outputId": "60f8d3be-4ea1-40d2-b54f-8a7203736f63"
      },
      "execution_count": null,
      "outputs": [
        {
          "output_type": "stream",
          "name": "stdout",
          "text": [
            "Peter\n",
            "36\n"
          ]
        }
      ]
    },
    {
      "cell_type": "code",
      "source": [
        "\n",
        "class Dog:\n",
        "  def __init__(self, name, age, sound):\n",
        "   self.name = name\n",
        "   self.age = age\n",
        "   self.sound = sound\n",
        "  def say(self):\n",
        "    print(self.sound*3)\n",
        "my_pet = Dog(\"Kaiser\", 5, \"Woof!\")\n",
        "print(my_pet.name, my_pet.age, my_pet.sound, my_pet.say())\n"
      ],
      "metadata": {
        "colab": {
          "base_uri": "https://localhost:8080/"
        },
        "id": "qgTW07hrsR1c",
        "outputId": "508afae8-c69f-4976-b37e-599bcc72c244"
      },
      "execution_count": null,
      "outputs": [
        {
          "output_type": "stream",
          "name": "stdout",
          "text": [
            "Woof!Woof!Woof!\n",
            "Kaiser 5 Woof! None\n"
          ]
        }
      ]
    },
    {
      "cell_type": "code",
      "source": [
        "my_pet2 = Dog(\"Bruno\", 7, \"Woof!\")\n",
        "print(my_pet2.name, my_pet2.age, my_pet2.sound)"
      ],
      "metadata": {
        "colab": {
          "base_uri": "https://localhost:8080/"
        },
        "id": "Mp5SAAOUt5Z-",
        "outputId": "7cadbe20-1d9c-454f-c745-ec427335f626"
      },
      "execution_count": null,
      "outputs": [
        {
          "output_type": "stream",
          "name": "stdout",
          "text": [
            "Bruno 7 Woof!\n"
          ]
        }
      ]
    },
    {
      "cell_type": "code",
      "source": [
        "class Animal:\n",
        "  def __init__(self, name, age, sound):\n",
        "    self.name = name\n",
        "    self.age = age\n",
        "    self.sound = sound\n",
        "\n",
        "  def make_sound(self):\n",
        "    return self.sound\n",
        "\n",
        "class Dog(Animal):\n",
        "  def __init__(self,name, age):\n",
        "    super().__init__(name, age, \"woof!\")\n",
        "\n",
        "def action(self):\n",
        "    print(\"Moves tails\")\n",
        "my_pet = Dog(\"Kaiser\", 5 )\n",
        "print(my_pet.name, my_pet.age, my_pet.sound, my_pet.make_sound())"
      ],
      "metadata": {
        "colab": {
          "base_uri": "https://localhost:8080/"
        },
        "id": "8exny0lquwha",
        "outputId": "b9d2e9ee-a4ce-4f5c-d267-07df439ecd22"
      },
      "execution_count": null,
      "outputs": [
        {
          "output_type": "stream",
          "name": "stdout",
          "text": [
            "Kaiser 5 woof! woof!\n"
          ]
        }
      ]
    },
    {
      "cell_type": "code",
      "source": [
        "class Cat(Animal):\n",
        "  def __init__(self,name, age):\n",
        "    super().__init__(name, age, \"meow!\")\n",
        "\n",
        "  def action(self):\n",
        "    print(\"Moves ears\")\n",
        "my_pet2 = Cat(\"Bruno\", 7)\n",
        "print(my_pet2.name, my_pet2.age, my_pet2.sound, my_pet2.make_sound())"
      ],
      "metadata": {
        "colab": {
          "base_uri": "https://localhost:8080/"
        },
        "id": "lz_9L3e5x_qj",
        "outputId": "be41001c-6302-4293-d774-27a39b861d9a"
      },
      "execution_count": null,
      "outputs": [
        {
          "output_type": "stream",
          "name": "stdout",
          "text": [
            "Bruno 7 meow! meow!\n"
          ]
        }
      ]
    },
    {
      "cell_type": "code",
      "source": [
        "my_pet2.action()"
      ],
      "metadata": {
        "colab": {
          "base_uri": "https://localhost:8080/"
        },
        "id": "o4tD1j1O0DtZ",
        "outputId": "73c6ea06-39ad-4bb8-e4b2-47dfd868394c"
      },
      "execution_count": null,
      "outputs": [
        {
          "output_type": "stream",
          "name": "stdout",
          "text": [
            "Moves ears\n"
          ]
        }
      ]
    },
    {
      "cell_type": "code",
      "source": [
        "# Design a class of type calculator which has two attributes and do arithmetic operations\n",
        "class calculator:\n",
        "  def __init__(self , num1, num2):\n",
        "    self.num1 = num1\n",
        "    self.num2 = num2\n",
        "\n",
        "  def addition(self):\n",
        "      print(self.num1 + self.num2)\n",
        "  def subtraction(self):\n",
        "      print(self.num1 - self.num2)\n",
        "  def multiplication(self):\n",
        "      print(self.num1 * self.num2)\n",
        "  def division(self):\n",
        "      print(self.num1 / self.num2)\n",
        "num1 = int(input(\"Enter num1: \"))\n",
        "num2 = int(input(\"Enter num2: \"))\n",
        "p1 = calculator(num1, num2)\n",
        "p1.addition()\n",
        "p1.subtraction()\n",
        "p1.multiplication()\n",
        "p1.division()\n",
        "\n"
      ],
      "metadata": {
        "colab": {
          "base_uri": "https://localhost:8080/"
        },
        "id": "3ChbPGbK2raG",
        "outputId": "12b3e1a2-b1e1-4c14-acbd-fdd2159f0cd7"
      },
      "execution_count": null,
      "outputs": [
        {
          "output_type": "stream",
          "name": "stdout",
          "text": [
            "Enter num1: 10\n",
            "Enter num2: 5\n",
            "15\n",
            "5\n",
            "50\n",
            "2.0\n"
          ]
        }
      ]
    },
    {
      "cell_type": "code",
      "source": [
        "# add two integers\n",
        "a = int(input(\"Enter first number: \"))\n",
        "b = int(input(\"Enter second number: \"))\n",
        "print(a+b)"
      ],
      "metadata": {
        "colab": {
          "base_uri": "https://localhost:8080/"
        },
        "id": "PdxCytCW7ZYP",
        "outputId": "3bb447e8-08d2-4627-f903-28a6a3298c78"
      },
      "execution_count": null,
      "outputs": [
        {
          "output_type": "stream",
          "name": "stdout",
          "text": [
            "Enter first number: 24\n",
            "Enter second number: 76\n",
            "100\n"
          ]
        }
      ]
    },
    {
      "cell_type": "code",
      "source": [
        "# subtract two floats\n",
        "a  = float(input(\"Enter first number: \"))\n",
        "b = float(input(\"Enter second number: \"))\n",
        "print(a-b)"
      ],
      "metadata": {
        "colab": {
          "base_uri": "https://localhost:8080/"
        },
        "id": "sBgvZ_xJVSbE",
        "outputId": "e9960f0d-26ce-44ea-e003-153afac20a09"
      },
      "execution_count": null,
      "outputs": [
        {
          "output_type": "stream",
          "name": "stdout",
          "text": [
            "Enter first number: 5.6\n",
            "Enter second number: 2.5\n",
            "3.0999999999999996\n"
          ]
        }
      ]
    },
    {
      "cell_type": "code",
      "source": [],
      "metadata": {
        "id": "u3WomI-gVfvn"
      },
      "execution_count": null,
      "outputs": []
    }
  ]
}