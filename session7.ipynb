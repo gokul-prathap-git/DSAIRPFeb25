{
  "nbformat": 4,
  "nbformat_minor": 0,
  "metadata": {
    "colab": {
      "provenance": [],
      "authorship_tag": "ABX9TyNPckMYNPIS2L/vs3+It8jC",
      "include_colab_link": true
    },
    "kernelspec": {
      "name": "python3",
      "display_name": "Python 3"
    },
    "language_info": {
      "name": "python"
    }
  },
  "cells": [
    {
      "cell_type": "markdown",
      "metadata": {
        "id": "view-in-github",
        "colab_type": "text"
      },
      "source": [
        "<a href=\"https://colab.research.google.com/github/gokul-prathap-git/DSAIRPFeb25/blob/session1/session7.ipynb\" target=\"_parent\"><img src=\"https://colab.research.google.com/assets/colab-badge.svg\" alt=\"Open In Colab\"/></a>"
      ]
    },
    {
      "cell_type": "code",
      "execution_count": null,
      "metadata": {
        "colab": {
          "base_uri": "https://localhost:8080/"
        },
        "id": "8MILmbwYdhs9",
        "outputId": "798a7308-0583-41fc-c776-861f0a1ea1ed"
      },
      "outputs": [
        {
          "output_type": "stream",
          "name": "stdout",
          "text": [
            "Enter a number:0\n",
            "The number is zero\n"
          ]
        }
      ],
      "source": [
        "# check if the number is positive,negative or zero\n",
        "num = int(input(\"Enter a number:\"))\n",
        "if num>0:\n",
        "  print(\"The number is positive\")\n",
        "elif num<0:\n",
        "  print(\"The number is negative\")\n",
        "else:\n",
        "  print(\"The number is zero\")"
      ]
    },
    {
      "cell_type": "code",
      "source": [
        "# Basic leap year check\n",
        "year = int(input(\"Enter a year:\"))\n",
        "if (year%4==0 and year%100!=0) or (year%400==0):\n",
        "  print(f\"{year} is a leap year\")\n",
        "else:\n",
        "  print(f\"{year} is not a leap year\")"
      ],
      "metadata": {
        "colab": {
          "base_uri": "https://localhost:8080/"
        },
        "id": "ubqwGwU4gTmp",
        "outputId": "917f295d-8efc-4c17-f8d1-399004824775"
      },
      "execution_count": null,
      "outputs": [
        {
          "output_type": "stream",
          "name": "stdout",
          "text": [
            "Enter a year:2000\n",
            "2000 is a leap year\n"
          ]
        }
      ]
    },
    {
      "cell_type": "code",
      "source": [
        "# check if number is even or odd\n",
        "num = int(input(\"enter a number:\"))\n",
        "if num%2 ==0:\n",
        "    print(\"even\")\n",
        "else:\n",
        "    print(\"odd\")"
      ],
      "metadata": {
        "colab": {
          "base_uri": "https://localhost:8080/"
        },
        "id": "h4pZ6F08gtJ7",
        "outputId": "b41aa90e-2ec5-4612-939d-ddfcad8b1676"
      },
      "execution_count": null,
      "outputs": [
        {
          "output_type": "stream",
          "name": "stdout",
          "text": [
            "enter a number:9\n",
            "odd\n"
          ]
        }
      ]
    },
    {
      "cell_type": "code",
      "source": [
        "# print numbers from 1 to N using loop\n",
        "n = int(input(\"Enter a number:\"))\n",
        "for i in range (1,n+1):\n",
        "  print(i)\n"
      ],
      "metadata": {
        "colab": {
          "base_uri": "https://localhost:8080/"
        },
        "id": "jW4wenLPkkl7",
        "outputId": "7843e9fe-1003-4d3d-da44-75e6667616d1"
      },
      "execution_count": null,
      "outputs": [
        {
          "output_type": "stream",
          "name": "stdout",
          "text": [
            "Enter a number:25\n",
            "1\n",
            "2\n",
            "3\n",
            "4\n",
            "5\n",
            "6\n",
            "7\n",
            "8\n",
            "9\n",
            "10\n",
            "11\n",
            "12\n",
            "13\n",
            "14\n",
            "15\n",
            "16\n",
            "17\n",
            "18\n",
            "19\n",
            "20\n",
            "21\n",
            "22\n",
            "23\n",
            "24\n",
            "25\n"
          ]
        }
      ]
    },
    {
      "cell_type": "code",
      "source": [
        "# Sum of first N natural numbers\n",
        "n = int(input(\"Enter a number:\"))\n",
        "sum = 0\n",
        "for i in range (1,n+1):\n",
        "  sum+=i\n",
        "  print(f\"The sum of first {n} natural num,bers in {sum}\")"
      ],
      "metadata": {
        "colab": {
          "base_uri": "https://localhost:8080/"
        },
        "id": "sRXmgj2Glf66",
        "outputId": "e6f609d6-6d19-4a82-f03a-a3770f343512"
      },
      "execution_count": null,
      "outputs": [
        {
          "output_type": "stream",
          "name": "stdout",
          "text": [
            "Enter a number:25\n",
            "The sum of first 25 natural num,bers in 1\n",
            "The sum of first 25 natural num,bers in 3\n",
            "The sum of first 25 natural num,bers in 6\n",
            "The sum of first 25 natural num,bers in 10\n",
            "The sum of first 25 natural num,bers in 15\n",
            "The sum of first 25 natural num,bers in 21\n",
            "The sum of first 25 natural num,bers in 28\n",
            "The sum of first 25 natural num,bers in 36\n",
            "The sum of first 25 natural num,bers in 45\n",
            "The sum of first 25 natural num,bers in 55\n",
            "The sum of first 25 natural num,bers in 66\n",
            "The sum of first 25 natural num,bers in 78\n",
            "The sum of first 25 natural num,bers in 91\n",
            "The sum of first 25 natural num,bers in 105\n",
            "The sum of first 25 natural num,bers in 120\n",
            "The sum of first 25 natural num,bers in 136\n",
            "The sum of first 25 natural num,bers in 153\n",
            "The sum of first 25 natural num,bers in 171\n",
            "The sum of first 25 natural num,bers in 190\n",
            "The sum of first 25 natural num,bers in 210\n",
            "The sum of first 25 natural num,bers in 231\n",
            "The sum of first 25 natural num,bers in 253\n",
            "The sum of first 25 natural num,bers in 276\n",
            "The sum of first 25 natural num,bers in 300\n",
            "The sum of first 25 natural num,bers in 325\n"
          ]
        }
      ]
    },
    {
      "cell_type": "code",
      "source": [
        "# Multiplication table\n",
        "n = int(input(\"enter the number:\"))\n",
        "for i  in range(1,11):\n",
        "  print(f\"{n}*{i}={n*i}\")\n"
      ],
      "metadata": {
        "colab": {
          "base_uri": "https://localhost:8080/"
        },
        "id": "y_c58ZQW0KOm",
        "outputId": "c4504c04-6b81-400f-916e-f9ab8e05a839"
      },
      "execution_count": null,
      "outputs": [
        {
          "output_type": "stream",
          "name": "stdout",
          "text": [
            "enter the number:9\n",
            "9*1=9\n",
            "9*2=18\n",
            "9*3=27\n",
            "9*4=36\n",
            "9*5=45\n",
            "9*6=54\n",
            "9*7=63\n",
            "9*8=72\n",
            "9*9=81\n",
            "9*10=90\n"
          ]
        }
      ]
    },
    {
      "cell_type": "code",
      "source": [
        "# Factorial calculation\n",
        "n = int(input(\"Enter the number:\"))\n",
        "fact = 1\n",
        "for i in range(1,n+1):\n",
        "  fact *=i\n",
        "  print(f\"The factorial of {n} is {fact}\")"
      ],
      "metadata": {
        "colab": {
          "base_uri": "https://localhost:8080/"
        },
        "id": "otH13c-65-bQ",
        "outputId": "6a10611c-6d1c-4eea-83cd-c8461bc774d3"
      },
      "execution_count": null,
      "outputs": [
        {
          "output_type": "stream",
          "name": "stdout",
          "text": [
            "Enter the number:7\n",
            "The factorial of 7 is 1\n",
            "The factorial of 7 is 2\n",
            "The factorial of 7 is 6\n",
            "The factorial of 7 is 24\n",
            "The factorial of 7 is 120\n",
            "The factorial of 7 is 720\n",
            "The factorial of 7 is 5040\n"
          ]
        }
      ]
    },
    {
      "cell_type": "code",
      "source": [
        "# Reversing a number\n",
        "n = int(input(\"Enter the number:\"))\n",
        "rev = 0\n",
        "while n>0:\n",
        "  rem = n%10\n",
        "  rev = rev*10+rem\n",
        "  n//= 10\n",
        "  print(f\"The reversed number is {rev}\")"
      ],
      "metadata": {
        "colab": {
          "base_uri": "https://localhost:8080/"
        },
        "id": "LXZ3yNkd7DvA",
        "outputId": "a92cad3c-ba76-4450-c801-fe4023597183"
      },
      "execution_count": null,
      "outputs": [
        {
          "output_type": "stream",
          "name": "stdout",
          "text": [
            "Enter the number:7528\n",
            "The reversed number is 8\n",
            "The reversed number is 82\n",
            "The reversed number is 825\n",
            "The reversed number is 8257\n"
          ]
        }
      ]
    },
    {
      "cell_type": "code",
      "source": [
        "# Count digits in a number\n",
        "n = int(input(\"Enter the number:\"))\n",
        "count = 0\n",
        "while n>0:\n",
        "  n//=10\n",
        "  count+=1\n",
        "  print(f\"The number of digits in the number is {count}\")"
      ],
      "metadata": {
        "colab": {
          "base_uri": "https://localhost:8080/"
        },
        "id": "88YwVBXo8eUo",
        "outputId": "ab8d2765-42a2-4c6d-8b59-531c9e272c24"
      },
      "execution_count": null,
      "outputs": [
        {
          "output_type": "stream",
          "name": "stdout",
          "text": [
            "Enter the number:123456789\n",
            "The number of digits in the number is 1\n",
            "The number of digits in the number is 2\n",
            "The number of digits in the number is 3\n",
            "The number of digits in the number is 4\n",
            "The number of digits in the number is 5\n",
            "The number of digits in the number is 6\n",
            "The number of digits in the number is 7\n",
            "The number of digits in the number is 8\n",
            "The number of digits in the number is 9\n"
          ]
        }
      ]
    },
    {
      "cell_type": "code",
      "source": [],
      "metadata": {
        "id": "JWwX5fSD9qiQ"
      },
      "execution_count": null,
      "outputs": []
    },
    {
      "cell_type": "markdown",
      "source": [
        "**Nested loops**"
      ],
      "metadata": {
        "id": "aMo9X_zJGAd5"
      }
    },
    {
      "cell_type": "code",
      "source": [
        "# Right-angled triangle pattern\n",
        "for i in range(1,6):\n",
        "  for j in range(1,i+1):\n",
        "    print(\"*\",end=\"\")\n",
        "  print()"
      ],
      "metadata": {
        "colab": {
          "base_uri": "https://localhost:8080/"
        },
        "id": "4BwAkHiaGH-p",
        "outputId": "a7c3ac30-c96c-412b-be32-31e2d4c07dcf"
      },
      "execution_count": null,
      "outputs": [
        {
          "output_type": "stream",
          "name": "stdout",
          "text": [
            "*\n",
            "**\n",
            "***\n",
            "****\n",
            "*****\n"
          ]
        }
      ]
    },
    {
      "cell_type": "code",
      "source": [
        "# Number pyramid pattern\n",
        "for i in range(1, 6):\n",
        "    for j in range(1, i + 1,):\n",
        "        print(j, end=\" \")\n",
        "    print()"
      ],
      "metadata": {
        "colab": {
          "base_uri": "https://localhost:8080/"
        },
        "id": "p3C5FFInG89J",
        "outputId": "680fcab7-5471-4456-de27-9e70d622a393"
      },
      "execution_count": null,
      "outputs": [
        {
          "output_type": "stream",
          "name": "stdout",
          "text": [
            "1 \n",
            "1 2 \n",
            "1 2 3 \n",
            "1 2 3 4 \n",
            "1 2 3 4 5 \n"
          ]
        }
      ]
    },
    {
      "cell_type": "code",
      "source": [],
      "metadata": {
        "id": "1vxzAtfwHjdR"
      },
      "execution_count": null,
      "outputs": []
    }
  ]
}