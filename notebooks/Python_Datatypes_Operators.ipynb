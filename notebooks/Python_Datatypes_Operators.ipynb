{
  "nbformat": 4,
  "nbformat_minor": 0,
  "metadata": {
    "colab": {
      "provenance": []
    },
    "kernelspec": {
      "name": "python3",
      "display_name": "Python 3"
    },
    "language_info": {
      "name": "python"
    }
  },
  "cells": [
    {
      "cell_type": "markdown",
      "source": [
        "# Variables and Data Types In Python"
      ],
      "metadata": {
        "id": "r7oyu_L9ry3S"
      }
    },
    {
      "cell_type": "markdown",
      "source": [
        "Data is raw facts and figures. Data types is the way in which we represent information in computer programming language. Depending upon the nature of information we want to represent, we have different data types in Python. A variable is an entity that represents the information from Random Access Memory (RAM)."
      ],
      "metadata": {
        "id": "DX4o62Bbvx9a"
      }
    },
    {
      "cell_type": "markdown",
      "source": [
        "\n",
        "\n",
        "\n",
        "<img src=\"https://developer.mozilla.org/en-US/docs/Learn/JavaScript/First_steps/Variables/boxes.png\" alt=\"drawing\" width=\"400\"/>"
      ],
      "metadata": {
        "id": "7nZBpcn_197a"
      }
    },
    {
      "cell_type": "code",
      "source": [
        "year = 2025\n",
        "year = year+3"
      ],
      "metadata": {
        "id": "ETz070_A1fhz"
      },
      "execution_count": 4,
      "outputs": []
    },
    {
      "cell_type": "code",
      "source": [
        "print(year)"
      ],
      "metadata": {
        "colab": {
          "base_uri": "https://localhost:8080/"
        },
        "id": "lAa5_B532ee1",
        "outputId": "b7d0934f-2ae5-4a95-fabb-c69f6253998d"
      },
      "execution_count": 5,
      "outputs": [
        {
          "output_type": "stream",
          "name": "stdout",
          "text": [
            "2028\n"
          ]
        }
      ]
    },
    {
      "cell_type": "code",
      "source": [
        "bank_interest = 7.5\n",
        "print(bank_interest)"
      ],
      "metadata": {
        "colab": {
          "base_uri": "https://localhost:8080/"
        },
        "id": "Bm56cXCCeKAx",
        "outputId": "69234dc9-756b-4171-f97a-01b1d210ebce"
      },
      "execution_count": 8,
      "outputs": [
        {
          "output_type": "stream",
          "name": "stdout",
          "text": [
            "7.5\n"
          ]
        }
      ]
    },
    {
      "cell_type": "code",
      "source": [
        "loan_interest = 9.\n",
        "print(loan_interest)"
      ],
      "metadata": {
        "colab": {
          "base_uri": "https://localhost:8080/"
        },
        "id": "Fz7aIj8ji-J7",
        "outputId": "68f08cc2-a1f0-4bee-d7f6-a0a2a3a2a38a"
      },
      "execution_count": 9,
      "outputs": [
        {
          "output_type": "stream",
          "name": "stdout",
          "text": [
            "9.0\n"
          ]
        }
      ]
    },
    {
      "cell_type": "code",
      "source": [
        "type(year)"
      ],
      "metadata": {
        "colab": {
          "base_uri": "https://localhost:8080/"
        },
        "id": "4s_v_cFqkBVE",
        "outputId": "e653091c-aeb8-4d4d-c4c2-ff5230467271"
      },
      "execution_count": 11,
      "outputs": [
        {
          "output_type": "execute_result",
          "data": {
            "text/plain": [
              "int"
            ]
          },
          "metadata": {},
          "execution_count": 11
        }
      ]
    },
    {
      "cell_type": "code",
      "source": [
        "c = 3+8j\n",
        "print(c)\n",
        "print(type(c))"
      ],
      "metadata": {
        "colab": {
          "base_uri": "https://localhost:8080/"
        },
        "id": "Cgw7BF9Tka0_",
        "outputId": "a97bcdc2-0522-4209-d39d-792d7c0c2777"
      },
      "execution_count": 15,
      "outputs": [
        {
          "output_type": "stream",
          "name": "stdout",
          "text": [
            "(3+8j)\n",
            "<class 'complex'>\n"
          ]
        }
      ]
    },
    {
      "cell_type": "markdown",
      "source": [
        "You can print value inside a variable using print command"
      ],
      "metadata": {
        "id": "6_8GNE4t_ed8"
      }
    },
    {
      "cell_type": "code",
      "source": [
        "# This prints current year\n",
        "print(year)"
      ],
      "metadata": {
        "colab": {
          "base_uri": "https://localhost:8080/"
        },
        "id": "DLVx75iM1u6N",
        "outputId": "a1420c07-3896-4af5-b4eb-1a844e21c825"
      },
      "execution_count": 6,
      "outputs": [
        {
          "output_type": "stream",
          "name": "stdout",
          "text": [
            "2028\n"
          ]
        }
      ]
    },
    {
      "cell_type": "code",
      "source": [
        "institute = 'ICT'"
      ],
      "metadata": {
        "id": "psjEyceQ1poR"
      },
      "execution_count": 16,
      "outputs": []
    },
    {
      "cell_type": "code",
      "source": [
        "print(institute)\n",
        "print(type(institute))\n",
        "print(type(\"ICT\"))\n",
        "print(len(institute))"
      ],
      "metadata": {
        "colab": {
          "base_uri": "https://localhost:8080/"
        },
        "id": "zA4NvBLG1zbE",
        "outputId": "0cbc1dad-c29d-46a3-90ab-e1e5db5f9cc4"
      },
      "execution_count": 21,
      "outputs": [
        {
          "output_type": "stream",
          "name": "stdout",
          "text": [
            "ICT\n",
            "<class 'str'>\n",
            "<class 'str'>\n",
            "3\n"
          ]
        }
      ]
    },
    {
      "cell_type": "markdown",
      "source": [
        "## Numeric Types\n",
        "\n"
      ],
      "metadata": {
        "id": "6rQtzI0pss5_"
      }
    },
    {
      "cell_type": "markdown",
      "source": [
        "### 1. Integer"
      ],
      "metadata": {
        "id": "o572LUw0xzjH"
      }
    },
    {
      "cell_type": "code",
      "source": [
        "10"
      ],
      "metadata": {
        "colab": {
          "base_uri": "https://localhost:8080/"
        },
        "id": "1J1leOcAvIPX",
        "outputId": "9289be35-18d1-4e6c-b978-bf75888fd9e7"
      },
      "execution_count": 22,
      "outputs": [
        {
          "output_type": "execute_result",
          "data": {
            "text/plain": [
              "10"
            ]
          },
          "metadata": {},
          "execution_count": 22
        }
      ]
    },
    {
      "cell_type": "code",
      "source": [
        "a = 10"
      ],
      "metadata": {
        "id": "239c_Oxo-gKa"
      },
      "execution_count": 23,
      "outputs": []
    },
    {
      "cell_type": "code",
      "source": [
        "# Comments"
      ],
      "metadata": {
        "id": "h4w18jMXwzXF"
      },
      "execution_count": 24,
      "outputs": []
    },
    {
      "cell_type": "code",
      "source": [
        "-3 # Integers can be negative numbers also"
      ],
      "metadata": {
        "colab": {
          "base_uri": "https://localhost:8080/"
        },
        "id": "a5U60kdVxCu-",
        "outputId": "386c5476-8276-439d-d916-2b878b8fbe3a"
      },
      "execution_count": 25,
      "outputs": [
        {
          "output_type": "execute_result",
          "data": {
            "text/plain": [
              "-3"
            ]
          },
          "metadata": {},
          "execution_count": 25
        }
      ]
    },
    {
      "cell_type": "code",
      "source": [
        "# We can check data type using a builtin function\n",
        "type(5)"
      ],
      "metadata": {
        "colab": {
          "base_uri": "https://localhost:8080/"
        },
        "id": "4K8MVHHpy0ip",
        "outputId": "6ba45604-e9c5-467b-edc8-421f423644c6"
      },
      "execution_count": 26,
      "outputs": [
        {
          "output_type": "execute_result",
          "data": {
            "text/plain": [
              "int"
            ]
          },
          "metadata": {},
          "execution_count": 26
        }
      ]
    },
    {
      "cell_type": "code",
      "source": [
        "b = -2"
      ],
      "metadata": {
        "id": "t6Pa7pme-k6m"
      },
      "execution_count": 27,
      "outputs": []
    },
    {
      "cell_type": "code",
      "source": [
        "type(b)"
      ],
      "metadata": {
        "colab": {
          "base_uri": "https://localhost:8080/"
        },
        "id": "ayfpqB2JzSt1",
        "outputId": "a46dde1e-7393-4bc3-b8b0-9436f9cc8dea"
      },
      "execution_count": 28,
      "outputs": [
        {
          "output_type": "execute_result",
          "data": {
            "text/plain": [
              "int"
            ]
          },
          "metadata": {},
          "execution_count": 28
        }
      ]
    },
    {
      "cell_type": "markdown",
      "source": [
        "#### Activity Question 1: What do you think the output of type(0)?"
      ],
      "metadata": {
        "id": "osRBRPZE0axo"
      }
    },
    {
      "cell_type": "markdown",
      "source": [
        "\n",
        "### 2. Floating point"
      ],
      "metadata": {
        "id": "4yvc9ZsixvaY"
      }
    },
    {
      "cell_type": "code",
      "source": [
        "pi = 3.14"
      ],
      "metadata": {
        "id": "eF8z3Mnr-aEs"
      },
      "execution_count": 29,
      "outputs": []
    },
    {
      "cell_type": "code",
      "source": [
        "type(pi)"
      ],
      "metadata": {
        "colab": {
          "base_uri": "https://localhost:8080/"
        },
        "id": "mSnClmGY-xU_",
        "outputId": "650d2166-bf10-48a2-9e9d-708c6f0df202"
      },
      "execution_count": 30,
      "outputs": [
        {
          "output_type": "execute_result",
          "data": {
            "text/plain": [
              "float"
            ]
          },
          "metadata": {},
          "execution_count": 30
        }
      ]
    },
    {
      "cell_type": "code",
      "source": [
        "c = 3.0\n",
        "c"
      ],
      "metadata": {
        "colab": {
          "base_uri": "https://localhost:8080/"
        },
        "id": "Tgym-Zxl-zEl",
        "outputId": "7c1c02e8-1293-4645-92e6-4d801d249f81"
      },
      "execution_count": 31,
      "outputs": [
        {
          "output_type": "execute_result",
          "data": {
            "text/plain": [
              "3.0"
            ]
          },
          "metadata": {},
          "execution_count": 31
        }
      ]
    },
    {
      "cell_type": "code",
      "source": [
        "d = 3. # Also equivalent to 3.0\n",
        "print(d)"
      ],
      "metadata": {
        "colab": {
          "base_uri": "https://localhost:8080/"
        },
        "id": "3tuFaUQo_EA9",
        "outputId": "639a5b15-e384-4468-da8c-9b3e51304f06"
      },
      "execution_count": 32,
      "outputs": [
        {
          "output_type": "stream",
          "name": "stdout",
          "text": [
            "3.0\n"
          ]
        }
      ]
    },
    {
      "cell_type": "markdown",
      "source": [
        "### 3. Complex"
      ],
      "metadata": {
        "id": "EdBJGbIbyAOa"
      }
    },
    {
      "cell_type": "code",
      "source": [
        "d = 3+4j\n",
        "d"
      ],
      "metadata": {
        "colab": {
          "base_uri": "https://localhost:8080/"
        },
        "id": "lzMbdxJC_Lyy",
        "outputId": "9d354f9a-693b-46a2-f180-3df2a4e3515d"
      },
      "execution_count": 33,
      "outputs": [
        {
          "output_type": "execute_result",
          "data": {
            "text/plain": [
              "(3+4j)"
            ]
          },
          "metadata": {},
          "execution_count": 33
        }
      ]
    },
    {
      "cell_type": "code",
      "source": [
        "type(d)"
      ],
      "metadata": {
        "colab": {
          "base_uri": "https://localhost:8080/"
        },
        "id": "i49dQmg-_PKs",
        "outputId": "9fc2ff2f-cf44-4797-afdb-c4888c705e63"
      },
      "execution_count": 34,
      "outputs": [
        {
          "output_type": "execute_result",
          "data": {
            "text/plain": [
              "complex"
            ]
          },
          "metadata": {},
          "execution_count": 34
        }
      ]
    },
    {
      "cell_type": "markdown",
      "source": [
        "## Text Type"
      ],
      "metadata": {
        "id": "8p1rRJc9uyjN"
      }
    },
    {
      "cell_type": "markdown",
      "source": [
        "1. String"
      ],
      "metadata": {
        "id": "mmFMXyz7Ag3L"
      }
    },
    {
      "cell_type": "markdown",
      "source": [
        "String is one or more characters/text"
      ],
      "metadata": {
        "id": "pwq2yDNkArQr"
      }
    },
    {
      "cell_type": "code",
      "source": [
        "month = \"Nove mber\""
      ],
      "metadata": {
        "id": "p0eCJmqqAhmg"
      },
      "execution_count": 35,
      "outputs": []
    },
    {
      "cell_type": "code",
      "source": [
        "len(month)"
      ],
      "metadata": {
        "colab": {
          "base_uri": "https://localhost:8080/"
        },
        "id": "2hyUEVsz6KD8",
        "outputId": "6cebc913-3517-41c2-a82d-91278e59c0ad"
      },
      "execution_count": 36,
      "outputs": [
        {
          "output_type": "execute_result",
          "data": {
            "text/plain": [
              "9"
            ]
          },
          "metadata": {},
          "execution_count": 36
        }
      ]
    },
    {
      "cell_type": "code",
      "source": [
        "type(month)"
      ],
      "metadata": {
        "colab": {
          "base_uri": "https://localhost:8080/"
        },
        "id": "uW56Za3BAx0O",
        "outputId": "4ec221e7-b4ec-4316-abfe-67b5765f311c"
      },
      "execution_count": 37,
      "outputs": [
        {
          "output_type": "execute_result",
          "data": {
            "text/plain": [
              "str"
            ]
          },
          "metadata": {},
          "execution_count": 37
        }
      ]
    },
    {
      "cell_type": "code",
      "source": [
        "type(\"C\")"
      ],
      "metadata": {
        "colab": {
          "base_uri": "https://localhost:8080/"
        },
        "id": "gZQJaVeNA2g_",
        "outputId": "f753bd59-1153-4942-a7ac-c406cefb86b4"
      },
      "execution_count": 38,
      "outputs": [
        {
          "output_type": "execute_result",
          "data": {
            "text/plain": [
              "str"
            ]
          },
          "metadata": {},
          "execution_count": 38
        }
      ]
    },
    {
      "cell_type": "markdown",
      "source": [
        "#### Activity Question 2: What do you think the data type of the following variable ?"
      ],
      "metadata": {
        "id": "_1OL6qAjBGTI"
      }
    },
    {
      "cell_type": "code",
      "source": [
        "year = \"2024\""
      ],
      "metadata": {
        "id": "nqN3xMAyBSM8"
      },
      "execution_count": 39,
      "outputs": []
    },
    {
      "cell_type": "code",
      "source": [
        "type(year)"
      ],
      "metadata": {
        "colab": {
          "base_uri": "https://localhost:8080/"
        },
        "id": "GEsNwqILBVgx",
        "outputId": "12ca4720-8d5a-4079-f0cd-c84ee39bf659"
      },
      "execution_count": 40,
      "outputs": [
        {
          "output_type": "execute_result",
          "data": {
            "text/plain": [
              "str"
            ]
          },
          "metadata": {},
          "execution_count": 40
        }
      ]
    },
    {
      "cell_type": "code",
      "source": [
        "language = \"Malayalam\"\n",
        "print(language[::-1])"
      ],
      "metadata": {
        "colab": {
          "base_uri": "https://localhost:8080/"
        },
        "id": "_krSemruyMVp",
        "outputId": "913ed4aa-15af-4210-bf46-8a13bc103ce8"
      },
      "execution_count": 112,
      "outputs": [
        {
          "output_type": "stream",
          "name": "stdout",
          "text": [
            "malayalaM\n"
          ]
        }
      ]
    },
    {
      "cell_type": "markdown",
      "source": [
        "## Sequence Types\n"
      ],
      "metadata": {
        "id": "PvjDzH95uqD-"
      }
    },
    {
      "cell_type": "markdown",
      "source": [
        "1. List"
      ],
      "metadata": {
        "id": "eRz0suYV_zrO"
      }
    },
    {
      "cell_type": "markdown",
      "source": [
        "List is a collection of elements grouped together"
      ],
      "metadata": {
        "id": "zf9D4s7vADoP"
      }
    },
    {
      "cell_type": "code",
      "source": [
        "digits = [0, 1, 2, 3, 4, 5, 6, 7, 8, 9]\n",
        "vowels = ['a', 'e', 'i', 'o', 'u']"
      ],
      "metadata": {
        "id": "_e1B2EAQ_36X"
      },
      "execution_count": 41,
      "outputs": []
    },
    {
      "cell_type": "code",
      "source": [
        "# Python lists can have individual elements of various data types\n",
        "grocery = [\"Apple\", 5, \"Orange\", 10]"
      ],
      "metadata": {
        "id": "Ja3wAeGeBjRM"
      },
      "execution_count": 42,
      "outputs": []
    },
    {
      "cell_type": "code",
      "source": [
        "len(digits)"
      ],
      "metadata": {
        "colab": {
          "base_uri": "https://localhost:8080/"
        },
        "id": "bMG0-U-anst5",
        "outputId": "ffbe1f3d-715c-4bea-8a28-0135052d0b9d"
      },
      "execution_count": 43,
      "outputs": [
        {
          "output_type": "execute_result",
          "data": {
            "text/plain": [
              "10"
            ]
          },
          "metadata": {},
          "execution_count": 43
        }
      ]
    },
    {
      "cell_type": "code",
      "source": [
        "print(institute)\n",
        "print(institute[-1])\n",
        "print(vowels[-1])"
      ],
      "metadata": {
        "colab": {
          "base_uri": "https://localhost:8080/"
        },
        "id": "LWz8hsR-n44e",
        "outputId": "b924d428-84f2-4132-90ae-eddadf619c78"
      },
      "execution_count": 50,
      "outputs": [
        {
          "output_type": "stream",
          "name": "stdout",
          "text": [
            "ICT\n",
            "T\n",
            "u\n"
          ]
        }
      ]
    },
    {
      "cell_type": "markdown",
      "source": [
        "#### Activity Question 3: Do do you think lists can have another list as one of its element?"
      ],
      "metadata": {
        "id": "Nck1qHI_CI21"
      }
    },
    {
      "cell_type": "markdown",
      "source": [
        "Lists are mutable which means we can change the elements after creating a list"
      ],
      "metadata": {
        "id": "ER_rRHdZEBWv"
      }
    },
    {
      "cell_type": "code",
      "source": [
        "grocery[0] = \"Grape\""
      ],
      "metadata": {
        "id": "LCcPK9WaEIQa"
      },
      "execution_count": 51,
      "outputs": []
    },
    {
      "cell_type": "code",
      "source": [
        "print(grocery)"
      ],
      "metadata": {
        "colab": {
          "base_uri": "https://localhost:8080/"
        },
        "id": "_Mow_ayZEL1h",
        "outputId": "ead8bd8f-07ce-45c6-d502-7e3b8e5d2004"
      },
      "execution_count": 53,
      "outputs": [
        {
          "output_type": "stream",
          "name": "stdout",
          "text": [
            "['Grape', 5, 'Orange', 10]\n"
          ]
        }
      ]
    },
    {
      "cell_type": "markdown",
      "source": [
        "2. Tuple"
      ],
      "metadata": {
        "id": "muyUlTBi_1Pt"
      }
    },
    {
      "cell_type": "markdown",
      "source": [
        "Tuples are similar to list but are immutable, meaning once you create a tuple, you cannot change, add, or remove items.\n",
        "\n",
        "This immutability can help protect data from accidental modification and also makes tuples more memory-efficient."
      ],
      "metadata": {
        "id": "5TfxWj3REkT5"
      }
    },
    {
      "cell_type": "code",
      "source": [
        "my_tuple = (1, 2, 3)\n",
        "my_tuple"
      ],
      "metadata": {
        "colab": {
          "base_uri": "https://localhost:8080/"
        },
        "id": "uyiwetowErfp",
        "outputId": "71a2b08e-b3b4-43ca-f2fa-1721573c828a"
      },
      "execution_count": 54,
      "outputs": [
        {
          "output_type": "execute_result",
          "data": {
            "text/plain": [
              "(1, 2, 3)"
            ]
          },
          "metadata": {},
          "execution_count": 54
        }
      ]
    },
    {
      "cell_type": "code",
      "source": [
        "# my_tuple[0] = 4"
      ],
      "metadata": {
        "id": "Hzj5ArxgE3TB"
      },
      "execution_count": 56,
      "outputs": []
    },
    {
      "cell_type": "markdown",
      "source": [
        "3. Range"
      ],
      "metadata": {
        "id": "S6vby7pT_2xh"
      }
    },
    {
      "cell_type": "markdown",
      "source": [
        "The range data type in Python represents an immutable sequence of numbers"
      ],
      "metadata": {
        "id": "tz1DsDuAFJ3Y"
      }
    },
    {
      "cell_type": "code",
      "source": [
        "start = 0\n",
        "stop = 5\n",
        "step = 1"
      ],
      "metadata": {
        "id": "jj9MJEoVFQPp"
      },
      "execution_count": 62,
      "outputs": []
    },
    {
      "cell_type": "code",
      "source": [
        "list(range(3, 10, 2))"
      ],
      "metadata": {
        "colab": {
          "base_uri": "https://localhost:8080/"
        },
        "id": "TVbzZTTmqlcH",
        "outputId": "62c5d759-0e77-4bd0-d231-837ee4a83ab2"
      },
      "execution_count": 63,
      "outputs": [
        {
          "output_type": "execute_result",
          "data": {
            "text/plain": [
              "[3, 5, 7, 9]"
            ]
          },
          "metadata": {},
          "execution_count": 63
        }
      ]
    },
    {
      "cell_type": "code",
      "source": [
        "# Creates a sequence from 0 to stop - 1\n",
        "range(stop)"
      ],
      "metadata": {
        "colab": {
          "base_uri": "https://localhost:8080/"
        },
        "id": "dn_3PyBjFk4-",
        "outputId": "24f61690-ea5e-48ef-c97b-fd87752824ba"
      },
      "execution_count": 64,
      "outputs": [
        {
          "output_type": "execute_result",
          "data": {
            "text/plain": [
              "range(0, 5)"
            ]
          },
          "metadata": {},
          "execution_count": 64
        }
      ]
    },
    {
      "cell_type": "code",
      "source": [
        "type(range(stop))"
      ],
      "metadata": {
        "colab": {
          "base_uri": "https://localhost:8080/"
        },
        "id": "hkR7Ye3eCL6w",
        "outputId": "73a27d90-ac2c-458b-bd29-c301216079d1"
      },
      "execution_count": 65,
      "outputs": [
        {
          "output_type": "execute_result",
          "data": {
            "text/plain": [
              "range"
            ]
          },
          "metadata": {},
          "execution_count": 65
        }
      ]
    },
    {
      "cell_type": "code",
      "source": [
        "list(range(stop))"
      ],
      "metadata": {
        "colab": {
          "base_uri": "https://localhost:8080/"
        },
        "id": "vNntwcxPF3uj",
        "outputId": "7fd361ec-6a63-47c3-b5a4-615e860e562f"
      },
      "execution_count": 66,
      "outputs": [
        {
          "output_type": "execute_result",
          "data": {
            "text/plain": [
              "[0, 1, 2, 3, 4]"
            ]
          },
          "metadata": {},
          "execution_count": 66
        }
      ]
    },
    {
      "cell_type": "code",
      "source": [
        "# Creates a sequence from start to stop - 1\n",
        "range(start, stop)"
      ],
      "metadata": {
        "colab": {
          "base_uri": "https://localhost:8080/"
        },
        "id": "bzKvflRPFnOZ",
        "outputId": "712cc394-31ad-4849-a1a5-cc7fda913ca5"
      },
      "execution_count": 67,
      "outputs": [
        {
          "output_type": "execute_result",
          "data": {
            "text/plain": [
              "range(0, 5)"
            ]
          },
          "metadata": {},
          "execution_count": 67
        }
      ]
    },
    {
      "cell_type": "code",
      "source": [
        "list(range(start, stop))"
      ],
      "metadata": {
        "colab": {
          "base_uri": "https://localhost:8080/"
        },
        "id": "mAa8oLdJF9VJ",
        "outputId": "b494b0c3-f2c0-4c1b-e119-6662d2503f35"
      },
      "execution_count": 68,
      "outputs": [
        {
          "output_type": "execute_result",
          "data": {
            "text/plain": [
              "[0, 1, 2, 3, 4]"
            ]
          },
          "metadata": {},
          "execution_count": 68
        }
      ]
    },
    {
      "cell_type": "code",
      "source": [
        "# Creates a sequence from start to stop - 1, incrementing by step each time\n",
        "range(start, stop, step)"
      ],
      "metadata": {
        "id": "YDRRDRrYFo4k",
        "colab": {
          "base_uri": "https://localhost:8080/"
        },
        "outputId": "631a7706-f166-45ef-f753-d18899817ffa"
      },
      "execution_count": 69,
      "outputs": [
        {
          "output_type": "execute_result",
          "data": {
            "text/plain": [
              "range(0, 5)"
            ]
          },
          "metadata": {},
          "execution_count": 69
        }
      ]
    },
    {
      "cell_type": "code",
      "source": [
        "list(range(start, stop, step))"
      ],
      "metadata": {
        "colab": {
          "base_uri": "https://localhost:8080/"
        },
        "id": "iv5w5N2GGAcP",
        "outputId": "97ff4f76-8501-4ca3-ecbb-619031242719"
      },
      "execution_count": 70,
      "outputs": [
        {
          "output_type": "execute_result",
          "data": {
            "text/plain": [
              "[0, 1, 2, 3, 4]"
            ]
          },
          "metadata": {},
          "execution_count": 70
        }
      ]
    },
    {
      "cell_type": "markdown",
      "source": [
        "#### Activity Question 4: How can we create odd numbers from 1 to 10 using range()?"
      ],
      "metadata": {
        "id": "62SKIsraGjDq"
      }
    },
    {
      "cell_type": "code",
      "source": [],
      "metadata": {
        "id": "MAbBRyJrG3xj"
      },
      "execution_count": null,
      "outputs": []
    },
    {
      "cell_type": "markdown",
      "source": [
        "#### Activity Question 5: How can we create odd numbers from 0 to 11 using range()?"
      ],
      "metadata": {
        "id": "jnZL92qGHDxh"
      }
    },
    {
      "cell_type": "code",
      "source": [],
      "metadata": {
        "id": "rGObY0Q9HS3D"
      },
      "execution_count": null,
      "outputs": []
    },
    {
      "cell_type": "markdown",
      "source": [
        "#### Activity Question 6: Can we create list of numbers from 10 to 1 in reverse order using range()?"
      ],
      "metadata": {
        "id": "2cYvlXPLHVxn"
      }
    },
    {
      "cell_type": "code",
      "source": [],
      "metadata": {
        "id": "_8CpIfe7HkO2"
      },
      "execution_count": 71,
      "outputs": []
    },
    {
      "cell_type": "markdown",
      "source": [
        "#### Activity Question 7: What do you think the output of the following command list(range(10, 1, -2))?"
      ],
      "metadata": {
        "id": "vNjDG3qGIFIU"
      }
    },
    {
      "cell_type": "code",
      "source": [],
      "metadata": {
        "id": "OHED3gMbIDpi"
      },
      "execution_count": 72,
      "outputs": []
    },
    {
      "cell_type": "markdown",
      "source": [
        "## Mapping Type\n",
        "1. Dictionary"
      ],
      "metadata": {
        "id": "Eiz1O_RFu0xR"
      }
    },
    {
      "cell_type": "markdown",
      "source": [
        "In Python, a dictionary is an unordered, mutable collection that stores data in key-value pairs.\n",
        "\n",
        "Each key in a dictionary must be unique, while values can be duplicated"
      ],
      "metadata": {
        "id": "yMjy-B_oI4HI"
      }
    },
    {
      "cell_type": "code",
      "source": [
        "data = {\n",
        "    \"Institute\": \"ICT\",\n",
        "    \"City\": \"Thiruvananthapuram\"\n",
        "}"
      ],
      "metadata": {
        "id": "oa3x4RD5LVWd"
      },
      "execution_count": 81,
      "outputs": []
    },
    {
      "cell_type": "code",
      "source": [
        "print(type(data))"
      ],
      "metadata": {
        "colab": {
          "base_uri": "https://localhost:8080/"
        },
        "id": "T0Yuz0IftAKm",
        "outputId": "318ad71b-3b93-40d3-d0a7-60eb4663c302"
      },
      "execution_count": 82,
      "outputs": [
        {
          "output_type": "stream",
          "name": "stdout",
          "text": [
            "<class 'dict'>\n"
          ]
        }
      ]
    },
    {
      "cell_type": "code",
      "source": [
        "data[\"Institute\"]"
      ],
      "metadata": {
        "colab": {
          "base_uri": "https://localhost:8080/",
          "height": 35
        },
        "id": "1ydReyg0LiKq",
        "outputId": "9d7eb223-3574-4e65-fddb-946d6bb40617"
      },
      "execution_count": 83,
      "outputs": [
        {
          "output_type": "execute_result",
          "data": {
            "text/plain": [
              "'ICT'"
            ],
            "application/vnd.google.colaboratory.intrinsic+json": {
              "type": "string"
            }
          },
          "metadata": {},
          "execution_count": 83
        }
      ]
    },
    {
      "cell_type": "code",
      "source": [
        "data[\"City\"]"
      ],
      "metadata": {
        "colab": {
          "base_uri": "https://localhost:8080/",
          "height": 35
        },
        "id": "QFkuFE1tLnDW",
        "outputId": "65d6ad5e-7f19-4752-9e31-e79130e430c4"
      },
      "execution_count": 84,
      "outputs": [
        {
          "output_type": "execute_result",
          "data": {
            "text/plain": [
              "'Thiruvananthapuram'"
            ],
            "application/vnd.google.colaboratory.intrinsic+json": {
              "type": "string"
            }
          },
          "metadata": {},
          "execution_count": 84
        }
      ]
    },
    {
      "cell_type": "code",
      "source": [
        "data[\"State\"] = \"Kerala\""
      ],
      "metadata": {
        "id": "eN6H7Gu7LxN8"
      },
      "execution_count": 85,
      "outputs": []
    },
    {
      "cell_type": "code",
      "source": [
        "print(data)"
      ],
      "metadata": {
        "colab": {
          "base_uri": "https://localhost:8080/"
        },
        "id": "JI15tPWPL2NY",
        "outputId": "3518fe20-9dfb-4a71-a6c3-67bb64a03b3a"
      },
      "execution_count": 86,
      "outputs": [
        {
          "output_type": "stream",
          "name": "stdout",
          "text": [
            "{'Institute': 'ICT', 'City': 'Thiruvananthapuram', 'State': 'Kerala'}\n"
          ]
        }
      ]
    },
    {
      "cell_type": "code",
      "source": [
        "# Accessing the keys only from a dictionary\n",
        "data.keys()"
      ],
      "metadata": {
        "colab": {
          "base_uri": "https://localhost:8080/"
        },
        "id": "enE6woqKMB_k",
        "outputId": "d7f0644c-cfb5-43ed-f7bb-7fb3933cdbb2"
      },
      "execution_count": 90,
      "outputs": [
        {
          "output_type": "execute_result",
          "data": {
            "text/plain": [
              "dict_keys(['Institute', 'City', 'State'])"
            ]
          },
          "metadata": {},
          "execution_count": 90
        }
      ]
    },
    {
      "cell_type": "code",
      "source": [
        "# Accessing the values only from a dictionary\n",
        "data.values()"
      ],
      "metadata": {
        "colab": {
          "base_uri": "https://localhost:8080/"
        },
        "id": "lyCJkkjDMMPS",
        "outputId": "4b27b14e-9e24-4481-c02b-98fbfa9218d5"
      },
      "execution_count": 88,
      "outputs": [
        {
          "output_type": "execute_result",
          "data": {
            "text/plain": [
              "dict_values(['ICT', 'Thiruvananthapuram', 'Kerala'])"
            ]
          },
          "metadata": {},
          "execution_count": 88
        }
      ]
    },
    {
      "cell_type": "markdown",
      "source": [
        "## Set Type\n",
        "1. Sets"
      ],
      "metadata": {
        "id": "fOe7wHyQu2ug"
      }
    },
    {
      "cell_type": "markdown",
      "source": [
        "In Python, a set is an unordered collection of unique items"
      ],
      "metadata": {
        "id": "S5qa4gzoMoZ8"
      }
    },
    {
      "cell_type": "code",
      "source": [
        "# Creating a set using {}\n",
        "my_set = {1, 2, 3, 4}\n",
        "print(my_set)"
      ],
      "metadata": {
        "colab": {
          "base_uri": "https://localhost:8080/"
        },
        "id": "WDeqZsHXMezN",
        "outputId": "24510f47-9a78-485d-b892-122d3d7689e4"
      },
      "execution_count": 93,
      "outputs": [
        {
          "output_type": "stream",
          "name": "stdout",
          "text": [
            "{1, 2, 3, 4}\n"
          ]
        }
      ]
    },
    {
      "cell_type": "code",
      "source": [
        "# Creating a set with duplicate values\n",
        "my_set_2 = {1, 2, 2, 3}\n",
        "print(my_set_2)"
      ],
      "metadata": {
        "colab": {
          "base_uri": "https://localhost:8080/"
        },
        "id": "gQix2aL1M4BZ",
        "outputId": "308c0a41-4668-4cf8-bc56-f56b602c895d"
      },
      "execution_count": 94,
      "outputs": [
        {
          "output_type": "stream",
          "name": "stdout",
          "text": [
            "{1, 2, 3}\n"
          ]
        }
      ]
    },
    {
      "cell_type": "code",
      "source": [
        "# Using the set() function\n",
        "empty_set = set()\n",
        "print(empty_set)"
      ],
      "metadata": {
        "colab": {
          "base_uri": "https://localhost:8080/"
        },
        "id": "Bn3AiDhiM5Tw",
        "outputId": "f654628c-fd46-4d61-f264-7533c5226200"
      },
      "execution_count": null,
      "outputs": [
        {
          "output_type": "stream",
          "name": "stdout",
          "text": [
            "set()\n"
          ]
        }
      ]
    },
    {
      "cell_type": "markdown",
      "source": [
        "#### Activity Question 8: Create a set with the elements 10, 20, 30, and 40. What will be the output if you add 30 again to this set? Why?"
      ],
      "metadata": {
        "id": "I2OLqmeNNeqf"
      }
    },
    {
      "cell_type": "code",
      "source": [],
      "metadata": {
        "id": "q4IQoqfANjxO"
      },
      "execution_count": null,
      "outputs": []
    },
    {
      "cell_type": "markdown",
      "source": [
        "## Boolean Type\n",
        "1. Boolean"
      ],
      "metadata": {
        "id": "7s7RzuQau4f8"
      }
    },
    {
      "cell_type": "markdown",
      "source": [
        "In Python, the Boolean data type represents truth values, which can be either True or False. Booleans are often used in conditional statements and expressions to make decisions in code"
      ],
      "metadata": {
        "id": "bsbpAK4FN3aC"
      }
    },
    {
      "cell_type": "code",
      "source": [
        "is_sunny = True\n",
        "is_raining = False\n",
        "\n",
        "print(is_sunny)\n",
        "print(is_raining)\n",
        "print(type(is_raining))"
      ],
      "metadata": {
        "colab": {
          "base_uri": "https://localhost:8080/"
        },
        "id": "M53GsPd8OCEV",
        "outputId": "6ae2de63-3449-48ed-c5a7-5ee43c72982b"
      },
      "execution_count": 97,
      "outputs": [
        {
          "output_type": "stream",
          "name": "stdout",
          "text": [
            "True\n",
            "False\n",
            "<class 'bool'>\n"
          ]
        }
      ]
    },
    {
      "cell_type": "code",
      "source": [
        "print(10>20)"
      ],
      "metadata": {
        "colab": {
          "base_uri": "https://localhost:8080/"
        },
        "id": "TVtrNe6VOJJj",
        "outputId": "1e2e09ac-8031-45d6-be31-2f2972b2c522"
      },
      "execution_count": 100,
      "outputs": [
        {
          "output_type": "stream",
          "name": "stdout",
          "text": [
            "False\n"
          ]
        }
      ]
    },
    {
      "cell_type": "markdown",
      "source": [
        "#### Activity Question 9: What do you think the output of the following ?"
      ],
      "metadata": {
        "id": "XBXiWRFcOUcu"
      }
    },
    {
      "cell_type": "markdown",
      "source": [
        "3. == 3.0"
      ],
      "metadata": {
        "id": "gwdXvWm3OnPE"
      }
    },
    {
      "cell_type": "code",
      "source": [],
      "metadata": {
        "id": "VDTA5oAIOfWJ"
      },
      "execution_count": null,
      "outputs": []
    },
    {
      "cell_type": "markdown",
      "source": [
        "10.001 == 10.002"
      ],
      "metadata": {
        "id": "2WTq87WCO2yZ"
      }
    },
    {
      "cell_type": "markdown",
      "source": [
        "Activity Question 10: What change in the following mathematical expression evaluates it to True from False"
      ],
      "metadata": {
        "id": "JknUNJoNQLRU"
      }
    },
    {
      "cell_type": "markdown",
      "source": [
        "9/2==4.0"
      ],
      "metadata": {
        "id": "nq3JYeGDQqKS"
      }
    },
    {
      "cell_type": "code",
      "source": [],
      "metadata": {
        "id": "5eruoVuiQYN_"
      },
      "execution_count": null,
      "outputs": []
    },
    {
      "cell_type": "markdown",
      "source": [
        "## None Type\n",
        "1. None"
      ],
      "metadata": {
        "id": "d7atm5AXu6Nb"
      }
    },
    {
      "cell_type": "markdown",
      "source": [
        "In Python, the None data type represents the absence of a value or a null value"
      ],
      "metadata": {
        "id": "CwbghQewPsu7"
      }
    },
    {
      "cell_type": "code",
      "source": [
        "status = None\n",
        "print(status)"
      ],
      "metadata": {
        "colab": {
          "base_uri": "https://localhost:8080/"
        },
        "id": "pGZt72yEPrw8",
        "outputId": "645cf65b-9414-4432-dc0d-4a836ac08d05"
      },
      "execution_count": 101,
      "outputs": [
        {
          "output_type": "stream",
          "name": "stdout",
          "text": [
            "None\n"
          ]
        }
      ]
    },
    {
      "cell_type": "code",
      "source": [],
      "metadata": {
        "id": "HmnhWPQCxppu"
      },
      "execution_count": null,
      "outputs": []
    },
    {
      "cell_type": "markdown",
      "source": [
        "# Operators In Python"
      ],
      "metadata": {
        "id": "Kk5ZV9_YTApm"
      }
    },
    {
      "cell_type": "markdown",
      "source": [
        "## Arithmetic Operators"
      ],
      "metadata": {
        "id": "eT7E5RRtTLyJ"
      }
    },
    {
      "cell_type": "markdown",
      "source": [
        "### Addition"
      ],
      "metadata": {
        "id": "sgnAJMd3UEHp"
      }
    },
    {
      "cell_type": "code",
      "source": [
        "3+4"
      ],
      "metadata": {
        "colab": {
          "base_uri": "https://localhost:8080/"
        },
        "id": "wuBdyoasTwq5",
        "outputId": "16eb3768-bfb9-400e-bfd9-5c7b5426c1be"
      },
      "execution_count": 113,
      "outputs": [
        {
          "output_type": "execute_result",
          "data": {
            "text/plain": [
              "7"
            ]
          },
          "metadata": {},
          "execution_count": 113
        }
      ]
    },
    {
      "cell_type": "code",
      "source": [
        "a = 10\n",
        "b = 12\n",
        "c = a+b\n",
        "print(c)"
      ],
      "metadata": {
        "colab": {
          "base_uri": "https://localhost:8080/"
        },
        "id": "6R_2hD2pUL-V",
        "outputId": "f7207058-1835-401d-d2a5-53d945a2b09b"
      },
      "execution_count": 114,
      "outputs": [
        {
          "output_type": "stream",
          "name": "stdout",
          "text": [
            "22\n"
          ]
        }
      ]
    },
    {
      "cell_type": "markdown",
      "source": [
        "### Subtraction"
      ],
      "metadata": {
        "id": "3K742LYrURaQ"
      }
    },
    {
      "cell_type": "code",
      "source": [
        "10-8"
      ],
      "metadata": {
        "colab": {
          "base_uri": "https://localhost:8080/"
        },
        "id": "DFmXcQLxT3y-",
        "outputId": "d2633a64-7c36-48f6-c703-449ea0d0f98a"
      },
      "execution_count": 115,
      "outputs": [
        {
          "output_type": "execute_result",
          "data": {
            "text/plain": [
              "2"
            ]
          },
          "metadata": {},
          "execution_count": 115
        }
      ]
    },
    {
      "cell_type": "code",
      "source": [
        "8-12"
      ],
      "metadata": {
        "colab": {
          "base_uri": "https://localhost:8080/"
        },
        "id": "sbmGXeZyUWxQ",
        "outputId": "e94ed40b-be6a-45bf-a7a5-de2d3c17f39a"
      },
      "execution_count": 116,
      "outputs": [
        {
          "output_type": "execute_result",
          "data": {
            "text/plain": [
              "-4"
            ]
          },
          "metadata": {},
          "execution_count": 116
        }
      ]
    },
    {
      "cell_type": "markdown",
      "source": [
        "Activity Question 11: What value of c will make the following expression evaluates to True"
      ],
      "metadata": {
        "id": "12lE0o2pUhug"
      }
    },
    {
      "cell_type": "code",
      "source": [
        "a = 8\n",
        "b = 10\n",
        "c = 2\n",
        "a-b+c ==0"
      ],
      "metadata": {
        "colab": {
          "base_uri": "https://localhost:8080/"
        },
        "id": "SYmEeL9-UnI_",
        "outputId": "b8059321-6830-411d-bea7-3ce1ffc7f4fa"
      },
      "execution_count": 119,
      "outputs": [
        {
          "output_type": "execute_result",
          "data": {
            "text/plain": [
              "True"
            ]
          },
          "metadata": {},
          "execution_count": 119
        }
      ]
    },
    {
      "cell_type": "markdown",
      "source": [
        "### Multiplication"
      ],
      "metadata": {
        "id": "7VyjgubMVUnb"
      }
    },
    {
      "cell_type": "code",
      "source": [
        "a = 12\n",
        "b = 10\n",
        "c = a*b\n",
        "print(c)"
      ],
      "metadata": {
        "colab": {
          "base_uri": "https://localhost:8080/"
        },
        "id": "zsEqzstpT6Gc",
        "outputId": "0928438a-b98e-4755-d112-893c34ec5144"
      },
      "execution_count": null,
      "outputs": [
        {
          "output_type": "stream",
          "name": "stdout",
          "text": [
            "120\n"
          ]
        }
      ]
    },
    {
      "cell_type": "markdown",
      "source": [
        "### Division"
      ],
      "metadata": {
        "id": "X5nSJSYhVgMT"
      }
    },
    {
      "cell_type": "code",
      "source": [
        "a = 13\n",
        "b = 2\n",
        "c = a//b\n",
        "print(c)"
      ],
      "metadata": {
        "colab": {
          "base_uri": "https://localhost:8080/"
        },
        "id": "EA6f30KET7ik",
        "outputId": "cbd06826-8502-4c00-bb97-d9b46d06e0d8"
      },
      "execution_count": null,
      "outputs": [
        {
          "output_type": "stream",
          "name": "stdout",
          "text": [
            "6\n"
          ]
        }
      ]
    },
    {
      "cell_type": "markdown",
      "source": [
        "Activity Question 12: Do dividing two integers result in floating point answer?"
      ],
      "metadata": {
        "id": "eGTO0LpzWZmi"
      }
    },
    {
      "cell_type": "markdown",
      "source": [
        "Activity Question 13: What value in x will result in 0.0 as output ?"
      ],
      "metadata": {
        "id": "7LgDWI5sW-v3"
      }
    },
    {
      "cell_type": "code",
      "source": [
        "x = 0# fill value here\n",
        "y = 3.0\n",
        "print(x/3)"
      ],
      "metadata": {
        "id": "3B8YetNTWoEB",
        "colab": {
          "base_uri": "https://localhost:8080/"
        },
        "outputId": "7719c9a8-f8ce-4f01-f31c-d267ec99a1b7"
      },
      "execution_count": 122,
      "outputs": [
        {
          "output_type": "stream",
          "name": "stdout",
          "text": [
            "0.0\n"
          ]
        }
      ]
    },
    {
      "cell_type": "markdown",
      "source": [
        "### Modulus"
      ],
      "metadata": {
        "id": "BWwaJlAyVvi9"
      }
    },
    {
      "cell_type": "code",
      "source": [
        "a = 9\n",
        "b = 2\n",
        "c = a%2\n",
        "print(c)"
      ],
      "metadata": {
        "id": "y7CdQ7kfT9OT"
      },
      "execution_count": null,
      "outputs": []
    },
    {
      "cell_type": "markdown",
      "source": [
        "### Exponentiation"
      ],
      "metadata": {
        "id": "-gDG6byxV9Op"
      }
    },
    {
      "cell_type": "code",
      "source": [
        "a = 10\n",
        "b = 3\n",
        "c = a**b\n",
        "print(c)"
      ],
      "metadata": {
        "id": "XwYRG3rTT-sq",
        "colab": {
          "base_uri": "https://localhost:8080/"
        },
        "outputId": "b7b11b1b-e50d-4e7a-fd91-c8b36b9039a2"
      },
      "execution_count": 123,
      "outputs": [
        {
          "output_type": "stream",
          "name": "stdout",
          "text": [
            "1000\n"
          ]
        }
      ]
    },
    {
      "cell_type": "markdown",
      "source": [
        "### Floor Division\n"
      ],
      "metadata": {
        "id": "8Nx6VFRzWFlG"
      }
    },
    {
      "cell_type": "code",
      "source": [
        "num = 9\n",
        "den = 2\n",
        "result = num//den\n",
        "print(result)"
      ],
      "metadata": {
        "id": "I69IS08ZUAVj"
      },
      "execution_count": null,
      "outputs": []
    },
    {
      "cell_type": "markdown",
      "source": [
        "## Assignment Operator"
      ],
      "metadata": {
        "id": "-c-1BaqGTQKA"
      }
    },
    {
      "cell_type": "code",
      "source": [
        "# Equals\n",
        "x = 20\n",
        "print(x)"
      ],
      "metadata": {
        "colab": {
          "base_uri": "https://localhost:8080/"
        },
        "id": "cH18WUV5YF1b",
        "outputId": "2818714f-e008-4f1c-d19f-46ba6f145955"
      },
      "execution_count": null,
      "outputs": [
        {
          "output_type": "stream",
          "name": "stdout",
          "text": [
            "20\n"
          ]
        }
      ]
    },
    {
      "cell_type": "markdown",
      "source": [
        "## Comparison Operators"
      ],
      "metadata": {
        "id": "nDJJXtJETV8p"
      }
    },
    {
      "cell_type": "markdown",
      "source": [
        "Compare two values and return True or False"
      ],
      "metadata": {
        "id": "yUDHkfMYY-9S"
      }
    },
    {
      "cell_type": "code",
      "source": [
        "# Equal to\n",
        "a = 10\n",
        "b = 10\n",
        "a==b"
      ],
      "metadata": {
        "colab": {
          "base_uri": "https://localhost:8080/"
        },
        "id": "uhx-JcmLY7XN",
        "outputId": "9a79dcf3-9a84-47c0-82d3-45b0a70c15f4"
      },
      "execution_count": null,
      "outputs": [
        {
          "output_type": "execute_result",
          "data": {
            "text/plain": [
              "True"
            ]
          },
          "metadata": {},
          "execution_count": 116
        }
      ]
    },
    {
      "cell_type": "code",
      "source": [
        "# Not equalt to\n",
        "x = 10\n",
        "y = 20\n",
        "print(x!=20)"
      ],
      "metadata": {
        "colab": {
          "base_uri": "https://localhost:8080/"
        },
        "id": "Py7iPcQhZIvl",
        "outputId": "1d565aa3-eddf-4342-919f-e7f4a5f356e9"
      },
      "execution_count": null,
      "outputs": [
        {
          "output_type": "stream",
          "name": "stdout",
          "text": [
            "True\n"
          ]
        }
      ]
    },
    {
      "cell_type": "code",
      "source": [
        "# Greater than\n",
        "print(x>y)"
      ],
      "metadata": {
        "colab": {
          "base_uri": "https://localhost:8080/"
        },
        "id": "RB1Z7L3cZSHB",
        "outputId": "d0a3215b-c2cd-403c-ec13-9d0d044c9cc4"
      },
      "execution_count": null,
      "outputs": [
        {
          "output_type": "stream",
          "name": "stdout",
          "text": [
            "False\n"
          ]
        }
      ]
    },
    {
      "cell_type": "code",
      "source": [
        "# Less than\n",
        "print(x<y)"
      ],
      "metadata": {
        "colab": {
          "base_uri": "https://localhost:8080/"
        },
        "id": "74UcmL0sZpGE",
        "outputId": "843ed06b-bf92-4f7a-b9a7-9b8d92c03ab0"
      },
      "execution_count": null,
      "outputs": [
        {
          "output_type": "stream",
          "name": "stdout",
          "text": [
            "True\n"
          ]
        }
      ]
    },
    {
      "cell_type": "code",
      "source": [
        "# Greater than or equal to\n",
        "print(x>=y)"
      ],
      "metadata": {
        "colab": {
          "base_uri": "https://localhost:8080/"
        },
        "id": "imNWklzuZqez",
        "outputId": "11750b5d-1a83-4539-dbc1-112855ca9e2e"
      },
      "execution_count": null,
      "outputs": [
        {
          "output_type": "stream",
          "name": "stdout",
          "text": [
            "False\n"
          ]
        }
      ]
    },
    {
      "cell_type": "code",
      "source": [
        "# Less than or equal to\n",
        "print(x<=y)"
      ],
      "metadata": {
        "colab": {
          "base_uri": "https://localhost:8080/"
        },
        "id": "pR_FYF-cZrpC",
        "outputId": "e4327d4c-99cd-4111-f525-bafb275dd1d1"
      },
      "execution_count": null,
      "outputs": [
        {
          "output_type": "stream",
          "name": "stdout",
          "text": [
            "True\n"
          ]
        }
      ]
    },
    {
      "cell_type": "markdown",
      "source": [
        "## Logical Operators"
      ],
      "metadata": {
        "id": "ZfmdWnBqTZah"
      }
    },
    {
      "cell_type": "code",
      "source": [
        "# AND\n",
        "print(True and True)"
      ],
      "metadata": {
        "colab": {
          "base_uri": "https://localhost:8080/"
        },
        "id": "EWyEJvp0Z70H",
        "outputId": "f6e8373c-0295-44d7-d246-3d1aca7d3177"
      },
      "execution_count": 124,
      "outputs": [
        {
          "output_type": "stream",
          "name": "stdout",
          "text": [
            "True\n"
          ]
        }
      ]
    },
    {
      "cell_type": "code",
      "source": [
        "# OR\n",
        "print(True or False)"
      ],
      "metadata": {
        "colab": {
          "base_uri": "https://localhost:8080/"
        },
        "id": "7W5pf3XOaJC-",
        "outputId": "efd13424-ac75-4f6c-aa15-604eaf637aad"
      },
      "execution_count": 125,
      "outputs": [
        {
          "output_type": "stream",
          "name": "stdout",
          "text": [
            "True\n"
          ]
        }
      ]
    },
    {
      "cell_type": "code",
      "source": [
        "# NOT\n",
        "print(not True)"
      ],
      "metadata": {
        "colab": {
          "base_uri": "https://localhost:8080/"
        },
        "id": "5NL-M2p2aKj7",
        "outputId": "16ae934d-668b-4ee5-df8f-a913bd19febb"
      },
      "execution_count": 126,
      "outputs": [
        {
          "output_type": "stream",
          "name": "stdout",
          "text": [
            "False\n"
          ]
        }
      ]
    },
    {
      "cell_type": "markdown",
      "source": [
        "## Membership Operators"
      ],
      "metadata": {
        "id": "LNT9K0DETg_a"
      }
    },
    {
      "cell_type": "markdown",
      "source": [
        "Test for membership in sequences like lists, strings, etc."
      ],
      "metadata": {
        "id": "YAF3uAN9awX6"
      }
    },
    {
      "cell_type": "code",
      "source": [
        "# IN\n",
        "print(1 in [1, 2, 3])"
      ],
      "metadata": {
        "colab": {
          "base_uri": "https://localhost:8080/"
        },
        "id": "PruxMh59aQ0Z",
        "outputId": "e2dd6134-4646-4da4-8e6c-2516c5cbe827"
      },
      "execution_count": null,
      "outputs": [
        {
          "output_type": "stream",
          "name": "stdout",
          "text": [
            "True\n"
          ]
        }
      ]
    },
    {
      "cell_type": "code",
      "source": [
        "# NOT IN\n",
        "print(1 not in [1,2,3])"
      ],
      "metadata": {
        "colab": {
          "base_uri": "https://localhost:8080/"
        },
        "id": "NxPLMgeVad9Z",
        "outputId": "27d06a31-e716-4f7e-e405-f70324e73292"
      },
      "execution_count": null,
      "outputs": [
        {
          "output_type": "stream",
          "name": "stdout",
          "text": [
            "False\n"
          ]
        }
      ]
    },
    {
      "cell_type": "code",
      "source": [
        "\"x\" in \"Malayalam\""
      ],
      "metadata": {
        "colab": {
          "base_uri": "https://localhost:8080/"
        },
        "id": "h2ySd6Rh2s4J",
        "outputId": "3f6bf2ed-8862-4cbd-cb00-e569eefea28f"
      },
      "execution_count": 129,
      "outputs": [
        {
          "output_type": "execute_result",
          "data": {
            "text/plain": [
              "False"
            ]
          },
          "metadata": {},
          "execution_count": 129
        }
      ]
    },
    {
      "cell_type": "markdown",
      "source": [
        "## Identity Operators"
      ],
      "metadata": {
        "id": "W5mL2rOETlQS"
      }
    },
    {
      "cell_type": "markdown",
      "source": [
        "Check if two variables refer to the same object in memory"
      ],
      "metadata": {
        "id": "IQatpzmma24n"
      }
    },
    {
      "cell_type": "code",
      "source": [
        "a = 10\n",
        "b = 10\n",
        "print(a)\n",
        "print(b)\n",
        "a = 20\n",
        "print(a)\n",
        "print(b)"
      ],
      "metadata": {
        "colab": {
          "base_uri": "https://localhost:8080/"
        },
        "id": "cOaEmbdJayuv",
        "outputId": "0e029ce8-cfe8-427a-ed7f-50b9f0183c1f"
      },
      "execution_count": 130,
      "outputs": [
        {
          "output_type": "stream",
          "name": "stdout",
          "text": [
            "10\n",
            "10\n",
            "20\n",
            "10\n"
          ]
        }
      ]
    },
    {
      "cell_type": "code",
      "source": [
        "# IS\n",
        "a = 10\n",
        "b = 10\n",
        "print(a is b)\n",
        "\n",
        "a = 10\n",
        "b = 12\n",
        "print(a is b)"
      ],
      "metadata": {
        "colab": {
          "base_uri": "https://localhost:8080/"
        },
        "id": "4OAUw-tca1WN",
        "outputId": "6da913ec-8d23-40ca-8bce-a087f393d9c3"
      },
      "execution_count": 131,
      "outputs": [
        {
          "output_type": "stream",
          "name": "stdout",
          "text": [
            "True\n",
            "False\n"
          ]
        }
      ]
    },
    {
      "cell_type": "code",
      "source": [
        "# IS NOT\n",
        "a = 10\n",
        "b = 10\n",
        "print(a is not b)\n",
        "\n",
        "a = 10\n",
        "b = 12\n",
        "print(a is not b)"
      ],
      "metadata": {
        "colab": {
          "base_uri": "https://localhost:8080/"
        },
        "id": "RQMb6ugRbSZC",
        "outputId": "9895fe4a-91c5-4a5c-c7c5-2642ef0b499e"
      },
      "execution_count": null,
      "outputs": [
        {
          "output_type": "stream",
          "name": "stdout",
          "text": [
            "False\n",
            "True\n"
          ]
        }
      ]
    },
    {
      "cell_type": "markdown",
      "source": [
        "## Ternary or Conditional Operator"
      ],
      "metadata": {
        "id": "QEyurCNiTqMZ"
      }
    },
    {
      "cell_type": "markdown",
      "source": [
        "Used for conditional expressions"
      ],
      "metadata": {
        "id": "Tj2nlSrzbZ-j"
      }
    },
    {
      "cell_type": "code",
      "source": [
        "x = 100\n",
        "y = 200\n",
        "max_val = x if x > y else y\n",
        "print(max_val)"
      ],
      "metadata": {
        "colab": {
          "base_uri": "https://localhost:8080/"
        },
        "id": "tba3HQCwbZKC",
        "outputId": "6af96efa-5e10-4aa4-b6c4-e042d438cfe3"
      },
      "execution_count": null,
      "outputs": [
        {
          "output_type": "stream",
          "name": "stdout",
          "text": [
            "200\n"
          ]
        }
      ]
    },
    {
      "cell_type": "markdown",
      "source": [],
      "metadata": {
        "id": "PU26k0k1bYAB"
      }
    },
    {
      "cell_type": "markdown",
      "source": [
        "Activity Question 14: Write code to check whether a number in given variable x is odd ?"
      ],
      "metadata": {
        "id": "Ss5SI5HTbfod"
      }
    },
    {
      "cell_type": "code",
      "source": [
        "x = 6\n",
        "print(x%2!=0)"
      ],
      "metadata": {
        "id": "2vrQLNL5bjvE",
        "colab": {
          "base_uri": "https://localhost:8080/"
        },
        "outputId": "294bd816-fa67-4cd9-da67-2c88ce8082b6"
      },
      "execution_count": null,
      "outputs": [
        {
          "output_type": "stream",
          "name": "stdout",
          "text": [
            "False\n"
          ]
        }
      ]
    },
    {
      "cell_type": "markdown",
      "source": [
        "Activity Question 15: Write code to check whether a number in given variable x is odd and divisible by 9?"
      ],
      "metadata": {
        "id": "c_BsJLdec9NA"
      }
    },
    {
      "cell_type": "code",
      "source": [
        "and"
      ],
      "metadata": {
        "id": "sqcA18K-coKz"
      },
      "execution_count": null,
      "outputs": []
    },
    {
      "cell_type": "markdown",
      "source": [
        "Activity Question 16: Write code to check if a given string has more than 10 characters"
      ],
      "metadata": {
        "id": "2HmnFQSUeohc"
      }
    },
    {
      "cell_type": "code",
      "source": [],
      "metadata": {
        "id": "-2IiWKxreyLu"
      },
      "execution_count": null,
      "outputs": []
    },
    {
      "cell_type": "markdown",
      "source": [
        "Activity Question 17: Write code print whether the value in a given variable x is even or odd"
      ],
      "metadata": {
        "id": "4dmFWuB8geWQ"
      }
    },
    {
      "cell_type": "code",
      "source": [],
      "metadata": {
        "id": "yPsPQC9-gmvt"
      },
      "execution_count": null,
      "outputs": []
    },
    {
      "cell_type": "markdown",
      "source": [
        "Activity Question 18: Write code to check a given string is palindrome or not"
      ],
      "metadata": {
        "id": "r0pYJZC3j32_"
      }
    },
    {
      "cell_type": "code",
      "source": [],
      "metadata": {
        "id": "8DKYTzo9j7_R"
      },
      "execution_count": null,
      "outputs": []
    }
  ]
}