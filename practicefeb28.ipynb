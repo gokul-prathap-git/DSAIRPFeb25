{
  "nbformat": 4,
  "nbformat_minor": 0,
  "metadata": {
    "colab": {
      "provenance": [],
      "authorship_tag": "ABX9TyN+H/p3BoNUfkCfpRXS6aZI",
      "include_colab_link": true
    },
    "kernelspec": {
      "name": "python3",
      "display_name": "Python 3"
    },
    "language_info": {
      "name": "python"
    }
  },
  "cells": [
    {
      "cell_type": "markdown",
      "metadata": {
        "id": "view-in-github",
        "colab_type": "text"
      },
      "source": [
        "<a href=\"https://colab.research.google.com/github/gokul-prathap-git/DSAIRPFeb25/blob/session1/practicefeb28.ipynb\" target=\"_parent\"><img src=\"https://colab.research.google.com/assets/colab-badge.svg\" alt=\"Open In Colab\"/></a>"
      ]
    },
    {
      "cell_type": "code",
      "execution_count": null,
      "metadata": {
        "id": "jru9o1eKtIIh"
      },
      "outputs": [],
      "source": []
    },
    {
      "cell_type": "code",
      "source": [
        "class Vehicle:\n",
        "  def __init__(self, brand, model,year):\n",
        "    self.brand = brand\n",
        "    self.model = model\n",
        "    self.year = year\n",
        "\n",
        "  def show_details(self):\n",
        "    print(f\"Vehicle brand is {self.brand} , Model type is {self.model} and built year is {self.year}\")\n",
        "\n",
        "  def drive(self):\n",
        "      print(f\"Vehicle {self.brand} is moving\")\n",
        "  def gear(self):\n",
        "      print(f\"Vehicle {self.brand} is in third gear\")\n",
        "\n",
        "obj1 = Vehicle(\"Toyota\",\"Camry\", 2023)\n",
        "obj1.show_details()\n",
        "obj1.drive()\n",
        "obj1.gear()\n",
        "\n",
        "class car(Vehicle):\n",
        "  def __init__(self, brand, model, year, color, fueltype):\n",
        "    super().__init__(brand, model, year)\n",
        "    self.color = color\n",
        "    self.fueltype = fueltype\n",
        "\n",
        "  def show_details(self):\n",
        "    super().show_details()\n",
        "    print(f\"car color is {self.color} and fuel type is {self.fueltype}\")\n",
        "\n",
        "  def drive(self):\n",
        "    print(f\"car {self.brand} is on the road\")\n",
        "\n",
        "obj2 = car(\"BMW\",\"X5\",2024,\"Black\",\"Petrol\")\n",
        "obj2.show_details()\n",
        "obj2.drive()\n",
        "\n",
        "class Vehicle:\n",
        "  def __init__(self, brand, model,year):\n",
        "    self.brand = brand\n",
        "    self.model = model\n",
        "    self.year = year\n",
        "\n",
        "  def show_details(self):\n",
        "    print(f\"Vehicle brand is {self.brand} , Model type is {self.model} and built year is {self.year}\")\n",
        "\n",
        "  def drive(self):\n",
        "      print(f\"Vehicle {self.brand} is moving\")\n",
        "  def gear(self):\n",
        "      print(f\"Vehicle {self.brand} is in third gear\")\n",
        "\n",
        "obj1 = Vehicle(\"Toyota\",\"Camry\", 2023)\n",
        "obj1.show_details()\n",
        "obj1.drive()\n",
        "obj1.gear()\n",
        "\n",
        "class car(Vehicle):\n",
        "  def __init__(self, brand, model, year, color, fueltype):\n",
        "    super().__init__(brand, model, year)\n",
        "    self.color = color\n",
        "    self.fueltype = fueltype\n",
        "\n",
        "  def show_details(self):\n",
        "    super().show_details()\n",
        "    print(f\"car color is {self.color} and fuel type is {self.fueltype}\")\n",
        "\n",
        "  def drive(self):\n",
        "    print(f\"car {self.brand} is on the road\")\n",
        "\n",
        "obj2 = car(\"BMW\",\"X5\",2024,\"Black\",\"Petrol\")\n",
        "obj2.show_details()\n",
        "obj2.drive()\n"
      ],
      "metadata": {
        "colab": {
          "base_uri": "https://localhost:8080/"
        },
        "id": "f5h5JmsRzPgv",
        "outputId": "a6563ce3-8498-46aa-a7b1-f348cd145583"
      },
      "execution_count": null,
      "outputs": [
        {
          "output_type": "stream",
          "name": "stdout",
          "text": [
            "Vehicle brand is Toyota , Model type is Camry and built year is 2023\n",
            "Vehicle Toyota is moving\n",
            "Vehicle Toyota is in third gear\n",
            "Vehicle brand is BMW , Model type is X5 and built year is 2024\n",
            "car color is Black and fuel type is Petrol\n",
            "car BMW is on the road\n",
            "Vehicle brand is Toyota , Model type is Camry and built year is 2023\n",
            "Vehicle Toyota is moving\n",
            "Vehicle Toyota is in third gear\n",
            "Vehicle brand is BMW , Model type is X5 and built year is 2024\n",
            "car color is Black and fuel type is Petrol\n",
            "car BMW is on the road\n"
          ]
        }
      ]
    },
    {
      "cell_type": "code",
      "source": [
        "class shoes:\n",
        "  def __init__(self, brand, model,year,colour):\n",
        "   self.brand = brand\n",
        "   self.model = model\n",
        "   self.year = year\n",
        "   self.colour = colour\n",
        "\n",
        "  def show_details(self):\n",
        "   print(f\"shoes brand is {self.brand} , Model type is {self.model} and built year is {self.year}\")\n",
        "\n",
        "  def walk(self):\n",
        "    print(f\"shoes {self.brand} is moving\")\n",
        "\n",
        "  def speed(self):\n",
        "    print(f\"shoes {self.brand} is in high speed\")\n",
        "\n",
        "sub1 = shoes(\"Nike\",\"Air Max\", 2005,\"Black\")\n",
        "sub1.show_details()\n",
        "sub1.walk()\n",
        "sub1.speed()"
      ],
      "metadata": {
        "colab": {
          "base_uri": "https://localhost:8080/"
        },
        "id": "24cj3G-X527d",
        "outputId": "89a06275-5797-4a1f-edce-40dc1ab0e825"
      },
      "execution_count": null,
      "outputs": [
        {
          "output_type": "stream",
          "name": "stdout",
          "text": [
            "shoes brand is Nike , Model type is Air Max and built year is 2005\n",
            "shoes Nike is moving\n",
            "shoes Nike is in high speed\n"
          ]
        }
      ]
    },
    {
      "cell_type": "code",
      "source": [],
      "metadata": {
        "id": "NQhh18AqZXSB"
      },
      "execution_count": null,
      "outputs": []
    },
    {
      "cell_type": "code",
      "source": [
        "class shoes:\n",
        "  def __init__(self, brand, model,year,colour):\n",
        "   self.brand = brand\n",
        "   self.model = model\n",
        "   self.year = year\n",
        "   self.colour = colour\n",
        "\n",
        "  def show_details(self):\n",
        "   print(f\"shoes brand is {self.brand} , Model type is {self.model} and built year is {self.year}\")\n",
        "\n",
        "  def walk(self):\n",
        "    print(f\"shoes {self.brand} is moving\")\n",
        "\n",
        "  def speed(self):\n",
        "    print(f\"shoes {self.brand} is in high speed\")\n",
        "\n",
        "sub1 = shoes(\"Nike\",\"Air Max\", 2005,\"Black\")\n",
        "sub1.show_details()\n",
        "sub1.walk()\n",
        "sub1.speed()\n",
        "\n",
        "from re import sub\n",
        "class new(shoes):\n",
        "  def __init__(self, brand, model, year, colour, price):\n",
        "    super().__init__(brand, model, year, colour)\n",
        "    self.price = price\n",
        "\n",
        "  def show_details(self):\n",
        "    super().show_details()\n",
        "    print(\"Price: \", self.price)\n",
        "\n",
        "  def show_price(self):\n",
        "    print(\"Price: \", self.price)\n",
        "\n",
        "sub2 = shoes(\"Adidas\", \"Superstar\", 2022, \"Black\")\n",
        "sub2.show_details()\n"
      ],
      "metadata": {
        "colab": {
          "base_uri": "https://localhost:8080/"
        },
        "id": "5N4Q0133751i",
        "outputId": "644cf912-661a-4c9a-c06a-a84922a83696"
      },
      "execution_count": null,
      "outputs": [
        {
          "output_type": "stream",
          "name": "stdout",
          "text": [
            "shoes brand is Nike , Model type is Air Max and built year is 2005\n",
            "shoes Nike is moving\n",
            "shoes Nike is in high speed\n",
            "shoes brand is Adidas , Model type is Superstar and built year is 2022\n"
          ]
        }
      ]
    },
    {
      "cell_type": "code",
      "source": [
        "accounts ={}\n",
        "\n",
        "def createAccount(accounts,accno,amount):\n",
        "    accounts[accno] = amount\n",
        "    return(f\"Account {accno} created with balance {amount}\")\n",
        "\n",
        "createAccount(accounts,\"A67345\",2000)\n",
        "\n",
        "def withdrawAmount(accounts,accno,amount):\n",
        "  available_balance = accounts[accno]\n",
        "  after_withdrawal = available_balance - amount\n",
        "  accounts[accno] = after_withdrawal\n",
        "  print(f\"{accno} has debited {amount}.Available balance is {after_withdrawal}\")\n",
        "\n",
        "withdrawAmount(accounts,\"A67345\",500)\n"
      ],
      "metadata": {
        "colab": {
          "base_uri": "https://localhost:8080/"
        },
        "id": "8SC6oIJS-RNq",
        "outputId": "6733eb18-234f-45c0-d185-59004fa456ae"
      },
      "execution_count": null,
      "outputs": [
        {
          "output_type": "stream",
          "name": "stdout",
          "text": [
            "A67345 has debited 500.Available balance is 1500\n"
          ]
        }
      ]
    },
    {
      "cell_type": "code",
      "source": [
        "Problem Statement\n",
        "You’re in charge of organizing a conference event for MBA students interested in data analytics. You need to manage a list of attendees efficiently, handling tasks such as adding new names, removing canceled participants, and sorting the list for smooth check-in.\n",
        "\n",
        "\n",
        "1) Add Attendees: Start with an empty list called attendees and add the List item following attendees one by one:\n",
        "\n",
        "\n",
        "2) Cancel Attendance: Remove him from the list.\n",
        "\n",
        "\n",
        "3) Check for VIP: Check if \"VIP Member\" is in the attendees list. If not, add them to the beginning of the list.\n",
        "\n",
        "\n",
        "4) Alphabetical Order: Sort the list of attendees alphabetically for easy lookup.\n",
        "\n",
        "\n",
        "5) Reverse Order for Check-Out: After the event, reverse the order of attendees to check them out in the reverse order they checked in.\n",
        "\n",
        "\n",
        "6) Count Attendees: Print the number of people attending the event.\n",
        "\n",
        "\n",
        "networking_attendees: list of participants\n",
        "\n",
        "\n",
        "Find & Remove No-Shows: Unfortunately, last  attendee couldn't attend the networking session. Remove her from networking_attendees.\n",
        "\n",
        "\n",
        "Check Common Attendees: Find attendees who are in both workshop_attendees and networking_attendees and store them in a new list called common_attendees.\n",
        "\n",
        "\n",
        "Combine Lists for a Grand Event: Combine both workshop_attendees and networking_attendees into a new list called grand_event_attendees.\n",
        "\n",
        "\n",
        "Unique Attendees: Some names may be duplicated. Remove any duplicates in grand_event_attendees using list methods, so each name appears only once.\n",
        "\n",
        "\n",
        "Count & Report:\n",
        "\n",
        "\n",
        "Find the total number of unique attendees.\n",
        "\n",
        "\n",
        "Print out the list of unique attendees in alphabetical order.\n",
        "\n",
        "\n",
        "Position Check: Determine the position of \"Alice Green\" in the final unique attendee list.\n",
        "\n",
        "\n",
        "Clear Networking List: Clear all attendees from networking_attendees at the end to show that the session has finished.\n"
      ],
      "metadata": {
        "id": "xL5bj0iuI4V0"
      },
      "execution_count": null,
      "outputs": []
    },
    {
      "cell_type": "code",
      "source": [
        "# you are in charge of organizing a conference event for MBA students interested in data analytics\n",
        "class AttendeeManager:\n",
        "    def __init__(self):\n",
        "        self.attendees = []\n",
        "        self.networking_attendees = []\n",
        "        self.workshop_attendees = []\n",
        "\n",
        "    def add_attendee(self, name):\n",
        "        self.attendees.append(name)\n",
        "\n",
        "    def cancel_attendance(self, name):\n",
        "        if name in self.attendees:\n",
        "            self.attendees.remove(name)\n",
        "\n",
        "    def check_vip(self):\n",
        "        if \"VIP Member\" not in self.attendees:\n",
        "            self.attendees.insert(0, \"VIP Member\")\n",
        "\n",
        "    def sort_attendees(self):\n",
        "        self.attendees.sort()\n",
        "\n",
        "    def reverse_attendees(self):\n",
        "        self.attendees.reverse()\n",
        "\n",
        "    def count_attendees(self):\n",
        "        return len(self.attendees)\n",
        "\n",
        "    def find_and_remove_no_shows(self):\n",
        "        if self.networking_attendees:\n",
        "            self.networking_attendees.pop()\n",
        "\n",
        "    def display_attendees(self):\n",
        "        for attendee in self.attendees:\n",
        "            print(attendee)\n",
        "\n",
        "    def display_networking_attendees(self):\n",
        "        for attendee in self.networking_attendees:\n",
        "            print(attendee)\n",
        "\n",
        "    def check_common_attendees(self):\n",
        "        return list(set(self.workshop_attendees) & set(self.networking_attendees))\n",
        "\n",
        "    def combine_lists_for_grand_event(self):\n",
        "        grand_event_attendees = list(set(self.workshop_attendees + self.networking_attendees))\n",
        "        return grand_event_attendees\n",
        "\n",
        "    def position_check(self, name, attendees_list):\n",
        "        if name in attendees_list:\n",
        "            return attendees_list.index(name)\n",
        "        return -1\n",
        "\n",
        "if __name__ == \"__main__\":\n",
        "    manager = AttendeeManager()\n",
        "\n",
        "    # Add workshop and networking attendees\n",
        "    workshop_attendees = [\"John Doe\", \"Jane Smith\", \"Alice Johnson\", \"Bob Brown\"]\n",
        "    networking_attendees = [\"John Doe\", \"Alice Johnson\", \"Bob Brown\", \"Charlie Black\"]\n",
        "    manager.workshop_attendees = workshop_attendees\n",
        "    manager.networking_attendees = networking_attendees\n",
        "\n",
        "    # Check common attendees\n",
        "    common_attendees = manager.check_common_attendees()\n",
        "    print(\"Common attendees:\")\n",
        "    print(common_attendees)\n",
        "\n",
        "    # Combine lists for a grand event\n",
        "    grand_event_attendees = manager.combine_lists_for_grand_event()\n",
        "\n",
        "    # Remove any duplicates (already handled in combine_lists_for_grand_event)\n",
        "    print(\"\\nGrand event attendees (unique):\")\n",
        "    print(grand_event_attendees)\n",
        "\n",
        "    # Count and report\n",
        "    print(f\"\\nTotal number of unique attendees: {len(grand_event_attendees)}\")\n",
        "    print(\"\\nUnique attendees in alphabetical order:\")\n",
        "    sorted_unique_attendees = sorted(grand_event_attendees)\n",
        "    for attendee in sorted_unique_attendees:\n",
        "        print(attendee)\n",
        "\n",
        "    # Position check\n",
        "    position = manager.position_check(\"Alice Green\", sorted_unique_attendees)\n",
        "    if position != -1:\n",
        "        print(f\"\\n'Alice Green' is at position {position} in the final unique attendee list.\")\n",
        "    else:\n",
        "        print(\"\\n'Alice Green' is not in the final unique attendee list.\")\n",
        "\n",
        "    # Clear networking list\n",
        "    manager.networking_attendees.clear()\n",
        "    print(\"\\nNetworking attendees after clearing the list:\")\n",
        "    manager.display_networking_attendees()"
      ],
      "metadata": {
        "colab": {
          "base_uri": "https://localhost:8080/"
        },
        "id": "DAOXMwnTZZ9T",
        "outputId": "84ac948b-598a-402c-e0a4-6fa2692e673b"
      },
      "execution_count": null,
      "outputs": [
        {
          "output_type": "stream",
          "name": "stdout",
          "text": [
            "Common attendees:\n",
            "['Alice Johnson', 'Bob Brown', 'John Doe']\n",
            "\n",
            "Grand event attendees (unique):\n",
            "['Alice Johnson', 'Charlie Black', 'Bob Brown', 'Jane Smith', 'John Doe']\n",
            "\n",
            "Total number of unique attendees: 5\n",
            "\n",
            "Unique attendees in alphabetical order:\n",
            "Alice Johnson\n",
            "Bob Brown\n",
            "Charlie Black\n",
            "Jane Smith\n",
            "John Doe\n",
            "\n",
            "'Alice Green' is not in the final unique attendee list.\n",
            "\n",
            "Networking attendees after clearing the list:\n"
          ]
        }
      ]
    },
    {
      "cell_type": "code",
      "source": [],
      "metadata": {
        "id": "OTBtpSUlnuV3"
      },
      "execution_count": null,
      "outputs": []
    }
  ]
}